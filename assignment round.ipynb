{
 "cells": [
  {
   "cell_type": "code",
   "execution_count": 325,
   "id": "576db5f9-607b-43d3-a7ae-cb98dda9c3fd",
   "metadata": {},
   "outputs": [],
   "source": [
    "import pandas as pd\n",
    "import numpy as np\n",
    "import seaborn as sns\n",
    "import matplotlib.pyplot as plt\n"
   ]
  },
  {
   "cell_type": "code",
   "execution_count": 326,
   "id": "efe9e8d5-e2a3-4f68-8429-e6bd2506143b",
   "metadata": {},
   "outputs": [
    {
     "name": "stdout",
     "output_type": "stream",
     "text": [
      "DF (user_details) Data:\n",
      "   User ID      User Name  Age       Location Registration Date         Phone  \\\n",
      "0    U001  Alice Johnson   28       New York        2023-01-15  123-456-7890   \n",
      "1    U002      Bob Smith   35    Los Angeles        2023-02-20  987-654-3210   \n",
      "2    U003    Charlie Lee   42        Chicago        2023-03-10  555-123-4567   \n",
      "3    U004    David Brown   27  San Francisco        2023-04-05  444-333-2222   \n",
      "4    U005     Emma White   30        Seattle        2023-05-22  777-888-9999   \n",
      "\n",
      "               Email Favorite Meal  Total Orders  \n",
      "0    alice@email.com        Dinner            12  \n",
      "1      bob@email.com         Lunch             8  \n",
      "2  charlie@email.com     Breakfast            15  \n",
      "3    david@email.com        Dinner            10  \n",
      "4     emma@email.com         Lunch             9  \n",
      "\n",
      "DF1 (order_details) Data:\n",
      "    Order ID User ID Order Date  Meal Type        Dish Name Order Status  \\\n",
      "0      1001    U001 2024-12-01     Dinner        Spaghetti    Completed   \n",
      "1      1002    U002 2024-12-01      Lunch     Caesar Salad    Completed   \n",
      "2      1003    U003 2024-12-02     Dinner  Grilled Chicken     Canceled   \n",
      "3      1004    U001 2024-12-02  Breakfast         Pancakes    Completed   \n",
      "4      1005    U004 2024-12-03      Lunch     Caesar Salad    Completed   \n",
      "\n",
      "   Amount (USD) Time of Day  Rating Session ID  \n",
      "0          15.0       Night     5.0       S001  \n",
      "1          10.0         Day     4.0       S002  \n",
      "2          12.5       Night     NaN       S003  \n",
      "3           8.0     Morning     4.0       S004  \n",
      "4           9.0         Day     4.0       S005  \n",
      "\n",
      "DF2 (cooking_session) Data:\n",
      "   Session ID User ID        Dish Name  Meal Type       Session Start  \\\n",
      "0       S001    U001        Spaghetti     Dinner 2024-12-01 19:00:00   \n",
      "1       S002    U002     Caesar Salad      Lunch 2024-12-01 12:00:00   \n",
      "2       S003    U003  Grilled Chicken     Dinner 2024-12-02 19:30:00   \n",
      "3       S004    U001         Pancakes  Breakfast 2024-12-02 07:30:00   \n",
      "4       S005    U004     Caesar Salad      Lunch 2024-12-03 13:00:00   \n",
      "\n",
      "          Session End  Duration (mins)  Session Rating  \n",
      "0 2024-12-01 19:30:00               30             4.5  \n",
      "1 2024-12-01 12:20:00               20             4.0  \n",
      "2 2024-12-02 20:10:00               40             4.8  \n",
      "3 2024-12-02 08:00:00               30             4.2  \n",
      "4 2024-12-03 13:15:00               15             4.7  \n"
     ]
    }
   ],
   "source": [
    "import pandas as pd\n",
    "\n",
    "# Path to your Excel file\n",
    "file_path = r'C:\\Users\\chinm\\Downloads\\Assignment.xlsx'\n",
    "\n",
    "# Read all sheets into a dictionary of DataFrames\n",
    "sheets_dict = pd.read_excel(file_path, sheet_name=None)\n",
    "\n",
    "# Unpack the sheets into separate DataFrame variables\n",
    "user_details,cooking_session,order_details = sheets_dict.values()\n",
    "\n",
    "# Check the first 5 rows of each DataFrame\n",
    "print(\"DF (user_details) Data:\\n\", user_details.head())\n",
    "print(\"\\nDF1 (order_details) Data:\\n\", order_details.head())\n",
    "print(\"\\nDF2 (cooking_session) Data:\\n\", cooking_session.head())\n"
   ]
  },
  {
   "cell_type": "code",
   "execution_count": 327,
   "id": "a982d15c-1782-41d1-bdc5-a03fd22601ca",
   "metadata": {},
   "outputs": [
    {
     "data": {
      "text/html": [
       "<div>\n",
       "<style scoped>\n",
       "    .dataframe tbody tr th:only-of-type {\n",
       "        vertical-align: middle;\n",
       "    }\n",
       "\n",
       "    .dataframe tbody tr th {\n",
       "        vertical-align: top;\n",
       "    }\n",
       "\n",
       "    .dataframe thead th {\n",
       "        text-align: right;\n",
       "    }\n",
       "</style>\n",
       "<table border=\"1\" class=\"dataframe\">\n",
       "  <thead>\n",
       "    <tr style=\"text-align: right;\">\n",
       "      <th></th>\n",
       "      <th>User ID</th>\n",
       "      <th>User Name</th>\n",
       "      <th>Age</th>\n",
       "      <th>Location</th>\n",
       "      <th>Registration Date</th>\n",
       "      <th>Phone</th>\n",
       "      <th>Email</th>\n",
       "      <th>Favorite Meal</th>\n",
       "      <th>Total Orders</th>\n",
       "    </tr>\n",
       "  </thead>\n",
       "  <tbody>\n",
       "    <tr>\n",
       "      <th>0</th>\n",
       "      <td>U001</td>\n",
       "      <td>Alice Johnson</td>\n",
       "      <td>28</td>\n",
       "      <td>New York</td>\n",
       "      <td>2023-01-15</td>\n",
       "      <td>123-456-7890</td>\n",
       "      <td>alice@email.com</td>\n",
       "      <td>Dinner</td>\n",
       "      <td>12</td>\n",
       "    </tr>\n",
       "    <tr>\n",
       "      <th>1</th>\n",
       "      <td>U002</td>\n",
       "      <td>Bob Smith</td>\n",
       "      <td>35</td>\n",
       "      <td>Los Angeles</td>\n",
       "      <td>2023-02-20</td>\n",
       "      <td>987-654-3210</td>\n",
       "      <td>bob@email.com</td>\n",
       "      <td>Lunch</td>\n",
       "      <td>8</td>\n",
       "    </tr>\n",
       "    <tr>\n",
       "      <th>2</th>\n",
       "      <td>U003</td>\n",
       "      <td>Charlie Lee</td>\n",
       "      <td>42</td>\n",
       "      <td>Chicago</td>\n",
       "      <td>2023-03-10</td>\n",
       "      <td>555-123-4567</td>\n",
       "      <td>charlie@email.com</td>\n",
       "      <td>Breakfast</td>\n",
       "      <td>15</td>\n",
       "    </tr>\n",
       "  </tbody>\n",
       "</table>\n",
       "</div>"
      ],
      "text/plain": [
       "  User ID      User Name  Age     Location Registration Date         Phone  \\\n",
       "0    U001  Alice Johnson   28     New York        2023-01-15  123-456-7890   \n",
       "1    U002      Bob Smith   35  Los Angeles        2023-02-20  987-654-3210   \n",
       "2    U003    Charlie Lee   42      Chicago        2023-03-10  555-123-4567   \n",
       "\n",
       "               Email Favorite Meal  Total Orders  \n",
       "0    alice@email.com        Dinner            12  \n",
       "1      bob@email.com         Lunch             8  \n",
       "2  charlie@email.com     Breakfast            15  "
      ]
     },
     "execution_count": 327,
     "metadata": {},
     "output_type": "execute_result"
    }
   ],
   "source": [
    "user_details.head(3)"
   ]
  },
  {
   "cell_type": "code",
   "execution_count": 15,
   "id": "5f3a64eb-f51e-48a3-9bf3-37de4b36bc3c",
   "metadata": {},
   "outputs": [
    {
     "data": {
      "text/html": [
       "<div>\n",
       "<style scoped>\n",
       "    .dataframe tbody tr th:only-of-type {\n",
       "        vertical-align: middle;\n",
       "    }\n",
       "\n",
       "    .dataframe tbody tr th {\n",
       "        vertical-align: top;\n",
       "    }\n",
       "\n",
       "    .dataframe thead th {\n",
       "        text-align: right;\n",
       "    }\n",
       "</style>\n",
       "<table border=\"1\" class=\"dataframe\">\n",
       "  <thead>\n",
       "    <tr style=\"text-align: right;\">\n",
       "      <th></th>\n",
       "      <th>Order ID</th>\n",
       "      <th>User ID</th>\n",
       "      <th>Order Date</th>\n",
       "      <th>Meal Type</th>\n",
       "      <th>Dish Name</th>\n",
       "      <th>Order Status</th>\n",
       "      <th>Amount (USD)</th>\n",
       "      <th>Time of Day</th>\n",
       "      <th>Rating</th>\n",
       "      <th>Session ID</th>\n",
       "    </tr>\n",
       "  </thead>\n",
       "  <tbody>\n",
       "    <tr>\n",
       "      <th>0</th>\n",
       "      <td>1001</td>\n",
       "      <td>U001</td>\n",
       "      <td>2024-12-01</td>\n",
       "      <td>Dinner</td>\n",
       "      <td>Spaghetti</td>\n",
       "      <td>Completed</td>\n",
       "      <td>15.0</td>\n",
       "      <td>Night</td>\n",
       "      <td>5.0</td>\n",
       "      <td>S001</td>\n",
       "    </tr>\n",
       "    <tr>\n",
       "      <th>1</th>\n",
       "      <td>1002</td>\n",
       "      <td>U002</td>\n",
       "      <td>2024-12-01</td>\n",
       "      <td>Lunch</td>\n",
       "      <td>Caesar Salad</td>\n",
       "      <td>Completed</td>\n",
       "      <td>10.0</td>\n",
       "      <td>Day</td>\n",
       "      <td>4.0</td>\n",
       "      <td>S002</td>\n",
       "    </tr>\n",
       "    <tr>\n",
       "      <th>2</th>\n",
       "      <td>1003</td>\n",
       "      <td>U003</td>\n",
       "      <td>2024-12-02</td>\n",
       "      <td>Dinner</td>\n",
       "      <td>Grilled Chicken</td>\n",
       "      <td>Canceled</td>\n",
       "      <td>12.5</td>\n",
       "      <td>Night</td>\n",
       "      <td>NaN</td>\n",
       "      <td>S003</td>\n",
       "    </tr>\n",
       "  </tbody>\n",
       "</table>\n",
       "</div>"
      ],
      "text/plain": [
       "   Order ID User ID Order Date Meal Type        Dish Name Order Status  \\\n",
       "0      1001    U001 2024-12-01    Dinner        Spaghetti    Completed   \n",
       "1      1002    U002 2024-12-01     Lunch     Caesar Salad    Completed   \n",
       "2      1003    U003 2024-12-02    Dinner  Grilled Chicken     Canceled   \n",
       "\n",
       "   Amount (USD) Time of Day  Rating Session ID  \n",
       "0          15.0       Night     5.0       S001  \n",
       "1          10.0         Day     4.0       S002  \n",
       "2          12.5       Night     NaN       S003  "
      ]
     },
     "execution_count": 15,
     "metadata": {},
     "output_type": "execute_result"
    }
   ],
   "source": [
    "order_details.head(3)"
   ]
  },
  {
   "cell_type": "code",
   "execution_count": 16,
   "id": "03ac9779-08ea-47ea-963c-a6234cee708c",
   "metadata": {},
   "outputs": [
    {
     "data": {
      "text/html": [
       "<div>\n",
       "<style scoped>\n",
       "    .dataframe tbody tr th:only-of-type {\n",
       "        vertical-align: middle;\n",
       "    }\n",
       "\n",
       "    .dataframe tbody tr th {\n",
       "        vertical-align: top;\n",
       "    }\n",
       "\n",
       "    .dataframe thead th {\n",
       "        text-align: right;\n",
       "    }\n",
       "</style>\n",
       "<table border=\"1\" class=\"dataframe\">\n",
       "  <thead>\n",
       "    <tr style=\"text-align: right;\">\n",
       "      <th></th>\n",
       "      <th>Session ID</th>\n",
       "      <th>User ID</th>\n",
       "      <th>Dish Name</th>\n",
       "      <th>Meal Type</th>\n",
       "      <th>Session Start</th>\n",
       "      <th>Session End</th>\n",
       "      <th>Duration (mins)</th>\n",
       "      <th>Session Rating</th>\n",
       "    </tr>\n",
       "  </thead>\n",
       "  <tbody>\n",
       "    <tr>\n",
       "      <th>0</th>\n",
       "      <td>S001</td>\n",
       "      <td>U001</td>\n",
       "      <td>Spaghetti</td>\n",
       "      <td>Dinner</td>\n",
       "      <td>2024-12-01 19:00:00</td>\n",
       "      <td>2024-12-01 19:30:00</td>\n",
       "      <td>30</td>\n",
       "      <td>4.5</td>\n",
       "    </tr>\n",
       "    <tr>\n",
       "      <th>1</th>\n",
       "      <td>S002</td>\n",
       "      <td>U002</td>\n",
       "      <td>Caesar Salad</td>\n",
       "      <td>Lunch</td>\n",
       "      <td>2024-12-01 12:00:00</td>\n",
       "      <td>2024-12-01 12:20:00</td>\n",
       "      <td>20</td>\n",
       "      <td>4.0</td>\n",
       "    </tr>\n",
       "    <tr>\n",
       "      <th>2</th>\n",
       "      <td>S003</td>\n",
       "      <td>U003</td>\n",
       "      <td>Grilled Chicken</td>\n",
       "      <td>Dinner</td>\n",
       "      <td>2024-12-02 19:30:00</td>\n",
       "      <td>2024-12-02 20:10:00</td>\n",
       "      <td>40</td>\n",
       "      <td>4.8</td>\n",
       "    </tr>\n",
       "  </tbody>\n",
       "</table>\n",
       "</div>"
      ],
      "text/plain": [
       "  Session ID User ID        Dish Name Meal Type       Session Start  \\\n",
       "0       S001    U001        Spaghetti    Dinner 2024-12-01 19:00:00   \n",
       "1       S002    U002     Caesar Salad     Lunch 2024-12-01 12:00:00   \n",
       "2       S003    U003  Grilled Chicken    Dinner 2024-12-02 19:30:00   \n",
       "\n",
       "          Session End  Duration (mins)  Session Rating  \n",
       "0 2024-12-01 19:30:00               30             4.5  \n",
       "1 2024-12-01 12:20:00               20             4.0  \n",
       "2 2024-12-02 20:10:00               40             4.8  "
      ]
     },
     "execution_count": 16,
     "metadata": {},
     "output_type": "execute_result"
    }
   ],
   "source": [
    "cooking_session.head(3)"
   ]
  },
  {
   "cell_type": "code",
   "execution_count": 328,
   "id": "1fad57ae-514f-41d2-a1e7-dcb2748e5756",
   "metadata": {},
   "outputs": [
    {
     "data": {
      "text/plain": [
       "User ID              0\n",
       "User Name            0\n",
       "Age                  0\n",
       "Location             0\n",
       "Registration Date    0\n",
       "Phone                0\n",
       "Email                0\n",
       "Favorite Meal        0\n",
       "Total Orders         0\n",
       "dtype: int64"
      ]
     },
     "execution_count": 328,
     "metadata": {},
     "output_type": "execute_result"
    }
   ],
   "source": [
    "## Check is there any null value or not\n",
    "user_details.isnull().sum()"
   ]
  },
  {
   "cell_type": "code",
   "execution_count": 329,
   "id": "4c79c2a0-4f0a-4e77-bdae-80968fd09de9",
   "metadata": {},
   "outputs": [
    {
     "data": {
      "text/plain": [
       "Session ID         0\n",
       "User ID            0\n",
       "Dish Name          0\n",
       "Meal Type          0\n",
       "Session Start      0\n",
       "Session End        0\n",
       "Duration (mins)    0\n",
       "Session Rating     0\n",
       "dtype: int64"
      ]
     },
     "execution_count": 329,
     "metadata": {},
     "output_type": "execute_result"
    }
   ],
   "source": [
    "cooking_session.isnull().sum()"
   ]
  },
  {
   "cell_type": "code",
   "execution_count": 29,
   "id": "d6ece6e4-52db-49bc-b509-078d4b2a3594",
   "metadata": {},
   "outputs": [
    {
     "data": {
      "text/plain": [
       "Order ID        0\n",
       "User ID         0\n",
       "Order Date      0\n",
       "Meal Type       0\n",
       "Dish Name       0\n",
       "Order Status    0\n",
       "Amount (USD)    0\n",
       "Time of Day     0\n",
       "Rating          2\n",
       "Session ID      0\n",
       "dtype: int64"
      ]
     },
     "execution_count": 29,
     "metadata": {},
     "output_type": "execute_result"
    }
   ],
   "source": [
    "order_details.isnull().sum()\n",
    "## only two missing value in order_details table in rating column"
   ]
  },
  {
   "cell_type": "code",
   "execution_count": null,
   "id": "727dc2e6-34de-49e7-bbfc-c17ee1fa5eb0",
   "metadata": {},
   "outputs": [],
   "source": []
  },
  {
   "cell_type": "code",
   "execution_count": 32,
   "id": "0c69c896-3cc0-4280-be5b-ed7e339cfd1f",
   "metadata": {},
   "outputs": [
    {
     "data": {
      "text/html": [
       "<div>\n",
       "<style scoped>\n",
       "    .dataframe tbody tr th:only-of-type {\n",
       "        vertical-align: middle;\n",
       "    }\n",
       "\n",
       "    .dataframe tbody tr th {\n",
       "        vertical-align: top;\n",
       "    }\n",
       "\n",
       "    .dataframe thead th {\n",
       "        text-align: right;\n",
       "    }\n",
       "</style>\n",
       "<table border=\"1\" class=\"dataframe\">\n",
       "  <thead>\n",
       "    <tr style=\"text-align: right;\">\n",
       "      <th></th>\n",
       "      <th>Order ID</th>\n",
       "      <th>User ID</th>\n",
       "      <th>Order Date</th>\n",
       "      <th>Meal Type</th>\n",
       "      <th>Dish Name</th>\n",
       "      <th>Order Status</th>\n",
       "      <th>Amount (USD)</th>\n",
       "      <th>Time of Day</th>\n",
       "      <th>Rating</th>\n",
       "      <th>Session ID</th>\n",
       "    </tr>\n",
       "  </thead>\n",
       "  <tbody>\n",
       "    <tr>\n",
       "      <th>2</th>\n",
       "      <td>1003</td>\n",
       "      <td>U003</td>\n",
       "      <td>2024-12-02</td>\n",
       "      <td>Dinner</td>\n",
       "      <td>Grilled Chicken</td>\n",
       "      <td>Canceled</td>\n",
       "      <td>12.5</td>\n",
       "      <td>Night</td>\n",
       "      <td>NaN</td>\n",
       "      <td>S003</td>\n",
       "    </tr>\n",
       "    <tr>\n",
       "      <th>7</th>\n",
       "      <td>1008</td>\n",
       "      <td>U003</td>\n",
       "      <td>2024-12-04</td>\n",
       "      <td>Lunch</td>\n",
       "      <td>Veggie Burger</td>\n",
       "      <td>Canceled</td>\n",
       "      <td>11.0</td>\n",
       "      <td>Day</td>\n",
       "      <td>NaN</td>\n",
       "      <td>S008</td>\n",
       "    </tr>\n",
       "  </tbody>\n",
       "</table>\n",
       "</div>"
      ],
      "text/plain": [
       "   Order ID User ID Order Date Meal Type        Dish Name Order Status  \\\n",
       "2      1003    U003 2024-12-02    Dinner  Grilled Chicken     Canceled   \n",
       "7      1008    U003 2024-12-04     Lunch    Veggie Burger     Canceled   \n",
       "\n",
       "   Amount (USD) Time of Day  Rating Session ID  \n",
       "2          12.5       Night     NaN       S003  \n",
       "7          11.0         Day     NaN       S008  "
      ]
     },
     "execution_count": 32,
     "metadata": {},
     "output_type": "execute_result"
    }
   ],
   "source": [
    "## these are the msiising value present on the order_details table\n",
    "order_details[order_details[\"Rating\"].isnull()]"
   ]
  },
  {
   "cell_type": "code",
   "execution_count": null,
   "id": "47746dc9-246d-4634-85bc-0701cfa00c49",
   "metadata": {},
   "outputs": [],
   "source": [
    "## find the duplicated value \n",
    "## there are no duplicate value none of the table"
   ]
  },
  {
   "cell_type": "code",
   "execution_count": 33,
   "id": "eda0885d-6775-4acd-af5b-e1582ea1ad6e",
   "metadata": {},
   "outputs": [
    {
     "data": {
      "text/plain": [
       "0"
      ]
     },
     "execution_count": 33,
     "metadata": {},
     "output_type": "execute_result"
    }
   ],
   "source": [
    "order_details.duplicated().sum()  ## no duplicate value in order_details"
   ]
  },
  {
   "cell_type": "code",
   "execution_count": 34,
   "id": "ec1fc788-bdf4-4351-8c7b-4fcdcc1f22c9",
   "metadata": {},
   "outputs": [
    {
     "data": {
      "text/plain": [
       "0"
      ]
     },
     "execution_count": 34,
     "metadata": {},
     "output_type": "execute_result"
    }
   ],
   "source": [
    "cooking_session.duplicated().sum()  ## no duplicated value in cooking session"
   ]
  },
  {
   "cell_type": "code",
   "execution_count": 35,
   "id": "a0824e5a-d85e-410c-959a-8a0517f79172",
   "metadata": {},
   "outputs": [
    {
     "data": {
      "text/plain": [
       "0"
      ]
     },
     "execution_count": 35,
     "metadata": {},
     "output_type": "execute_result"
    }
   ],
   "source": [
    "user_details.duplicated().sum() ## no duplicated value in the cooking session"
   ]
  },
  {
   "cell_type": "code",
   "execution_count": null,
   "id": "76ae5c72-8d28-4e65-b235-d95966265220",
   "metadata": {},
   "outputs": [],
   "source": [
    "## check the datatypes of the column"
   ]
  },
  {
   "cell_type": "code",
   "execution_count": 330,
   "id": "96a62a0a-fc65-4052-8012-6ff460626216",
   "metadata": {},
   "outputs": [
    {
     "name": "stdout",
     "output_type": "stream",
     "text": [
      "<class 'pandas.core.frame.DataFrame'>\n",
      "RangeIndex: 10 entries, 0 to 9\n",
      "Data columns (total 9 columns):\n",
      " #   Column             Non-Null Count  Dtype         \n",
      "---  ------             --------------  -----         \n",
      " 0   User ID            10 non-null     object        \n",
      " 1   User Name          10 non-null     object        \n",
      " 2   Age                10 non-null     int64         \n",
      " 3   Location           10 non-null     object        \n",
      " 4   Registration Date  10 non-null     datetime64[ns]\n",
      " 5   Phone              10 non-null     object        \n",
      " 6   Email              10 non-null     object        \n",
      " 7   Favorite Meal      10 non-null     object        \n",
      " 8   Total Orders       10 non-null     int64         \n",
      "dtypes: datetime64[ns](1), int64(2), object(6)\n",
      "memory usage: 852.0+ bytes\n"
     ]
    }
   ],
   "source": [
    "user_details.info()"
   ]
  },
  {
   "cell_type": "code",
   "execution_count": 331,
   "id": "1a0daffa-caeb-4254-ac9a-f22f2ec131af",
   "metadata": {},
   "outputs": [
    {
     "name": "stdout",
     "output_type": "stream",
     "text": [
      "<class 'pandas.core.frame.DataFrame'>\n",
      "RangeIndex: 16 entries, 0 to 15\n",
      "Data columns (total 10 columns):\n",
      " #   Column        Non-Null Count  Dtype         \n",
      "---  ------        --------------  -----         \n",
      " 0   Order ID      16 non-null     int64         \n",
      " 1   User ID       16 non-null     object        \n",
      " 2   Order Date    16 non-null     datetime64[ns]\n",
      " 3   Meal Type     16 non-null     object        \n",
      " 4   Dish Name     16 non-null     object        \n",
      " 5   Order Status  16 non-null     object        \n",
      " 6   Amount (USD)  16 non-null     float64       \n",
      " 7   Time of Day   16 non-null     object        \n",
      " 8   Rating        14 non-null     float64       \n",
      " 9   Session ID    16 non-null     object        \n",
      "dtypes: datetime64[ns](1), float64(2), int64(1), object(6)\n",
      "memory usage: 1.4+ KB\n"
     ]
    }
   ],
   "source": [
    "order_details.info()"
   ]
  },
  {
   "cell_type": "code",
   "execution_count": 332,
   "id": "d6e78d52-36e8-43f4-b4b2-5cd5488187ea",
   "metadata": {},
   "outputs": [
    {
     "name": "stdout",
     "output_type": "stream",
     "text": [
      "<class 'pandas.core.frame.DataFrame'>\n",
      "RangeIndex: 16 entries, 0 to 15\n",
      "Data columns (total 8 columns):\n",
      " #   Column           Non-Null Count  Dtype         \n",
      "---  ------           --------------  -----         \n",
      " 0   Session ID       16 non-null     object        \n",
      " 1   User ID          16 non-null     object        \n",
      " 2   Dish Name        16 non-null     object        \n",
      " 3   Meal Type        16 non-null     object        \n",
      " 4   Session Start    16 non-null     datetime64[ns]\n",
      " 5   Session End      16 non-null     datetime64[ns]\n",
      " 6   Duration (mins)  16 non-null     int64         \n",
      " 7   Session Rating   16 non-null     float64       \n",
      "dtypes: datetime64[ns](2), float64(1), int64(1), object(4)\n",
      "memory usage: 1.1+ KB\n"
     ]
    }
   ],
   "source": [
    "cooking_session.info()"
   ]
  },
  {
   "cell_type": "code",
   "execution_count": 42,
   "id": "45dbb983-60cc-47e3-a3e0-a5ddce0b8a35",
   "metadata": {},
   "outputs": [],
   "source": [
    "## merging the user_details and cooking session and did analysis"
   ]
  },
  {
   "cell_type": "code",
   "execution_count": 333,
   "id": "64274736-1ac7-4d27-a35a-94e4ef2c4ea6",
   "metadata": {},
   "outputs": [],
   "source": [
    "df=pd.merge(cooking_session,user_details,on=[\"User ID\"])"
   ]
  },
  {
   "cell_type": "code",
   "execution_count": 334,
   "id": "0623de93-0cd9-4c39-9df4-004914b098bc",
   "metadata": {},
   "outputs": [
    {
     "data": {
      "text/html": [
       "<div>\n",
       "<style scoped>\n",
       "    .dataframe tbody tr th:only-of-type {\n",
       "        vertical-align: middle;\n",
       "    }\n",
       "\n",
       "    .dataframe tbody tr th {\n",
       "        vertical-align: top;\n",
       "    }\n",
       "\n",
       "    .dataframe thead th {\n",
       "        text-align: right;\n",
       "    }\n",
       "</style>\n",
       "<table border=\"1\" class=\"dataframe\">\n",
       "  <thead>\n",
       "    <tr style=\"text-align: right;\">\n",
       "      <th></th>\n",
       "      <th>Session ID</th>\n",
       "      <th>User ID</th>\n",
       "      <th>Dish Name</th>\n",
       "      <th>Meal Type</th>\n",
       "      <th>Session Start</th>\n",
       "      <th>Session End</th>\n",
       "      <th>Duration (mins)</th>\n",
       "      <th>Session Rating</th>\n",
       "      <th>User Name</th>\n",
       "      <th>Age</th>\n",
       "      <th>Location</th>\n",
       "      <th>Registration Date</th>\n",
       "      <th>Phone</th>\n",
       "      <th>Email</th>\n",
       "      <th>Favorite Meal</th>\n",
       "      <th>Total Orders</th>\n",
       "    </tr>\n",
       "  </thead>\n",
       "  <tbody>\n",
       "    <tr>\n",
       "      <th>0</th>\n",
       "      <td>S001</td>\n",
       "      <td>U001</td>\n",
       "      <td>Spaghetti</td>\n",
       "      <td>Dinner</td>\n",
       "      <td>2024-12-01 19:00:00</td>\n",
       "      <td>2024-12-01 19:30:00</td>\n",
       "      <td>30</td>\n",
       "      <td>4.5</td>\n",
       "      <td>Alice Johnson</td>\n",
       "      <td>28</td>\n",
       "      <td>New York</td>\n",
       "      <td>2023-01-15</td>\n",
       "      <td>123-456-7890</td>\n",
       "      <td>alice@email.com</td>\n",
       "      <td>Dinner</td>\n",
       "      <td>12</td>\n",
       "    </tr>\n",
       "    <tr>\n",
       "      <th>1</th>\n",
       "      <td>S002</td>\n",
       "      <td>U002</td>\n",
       "      <td>Caesar Salad</td>\n",
       "      <td>Lunch</td>\n",
       "      <td>2024-12-01 12:00:00</td>\n",
       "      <td>2024-12-01 12:20:00</td>\n",
       "      <td>20</td>\n",
       "      <td>4.0</td>\n",
       "      <td>Bob Smith</td>\n",
       "      <td>35</td>\n",
       "      <td>Los Angeles</td>\n",
       "      <td>2023-02-20</td>\n",
       "      <td>987-654-3210</td>\n",
       "      <td>bob@email.com</td>\n",
       "      <td>Lunch</td>\n",
       "      <td>8</td>\n",
       "    </tr>\n",
       "    <tr>\n",
       "      <th>2</th>\n",
       "      <td>S003</td>\n",
       "      <td>U003</td>\n",
       "      <td>Grilled Chicken</td>\n",
       "      <td>Dinner</td>\n",
       "      <td>2024-12-02 19:30:00</td>\n",
       "      <td>2024-12-02 20:10:00</td>\n",
       "      <td>40</td>\n",
       "      <td>4.8</td>\n",
       "      <td>Charlie Lee</td>\n",
       "      <td>42</td>\n",
       "      <td>Chicago</td>\n",
       "      <td>2023-03-10</td>\n",
       "      <td>555-123-4567</td>\n",
       "      <td>charlie@email.com</td>\n",
       "      <td>Breakfast</td>\n",
       "      <td>15</td>\n",
       "    </tr>\n",
       "  </tbody>\n",
       "</table>\n",
       "</div>"
      ],
      "text/plain": [
       "  Session ID User ID        Dish Name Meal Type       Session Start  \\\n",
       "0       S001    U001        Spaghetti    Dinner 2024-12-01 19:00:00   \n",
       "1       S002    U002     Caesar Salad     Lunch 2024-12-01 12:00:00   \n",
       "2       S003    U003  Grilled Chicken    Dinner 2024-12-02 19:30:00   \n",
       "\n",
       "          Session End  Duration (mins)  Session Rating      User Name  Age  \\\n",
       "0 2024-12-01 19:30:00               30             4.5  Alice Johnson   28   \n",
       "1 2024-12-01 12:20:00               20             4.0      Bob Smith   35   \n",
       "2 2024-12-02 20:10:00               40             4.8    Charlie Lee   42   \n",
       "\n",
       "      Location Registration Date         Phone              Email  \\\n",
       "0     New York        2023-01-15  123-456-7890    alice@email.com   \n",
       "1  Los Angeles        2023-02-20  987-654-3210      bob@email.com   \n",
       "2      Chicago        2023-03-10  555-123-4567  charlie@email.com   \n",
       "\n",
       "  Favorite Meal  Total Orders  \n",
       "0        Dinner            12  \n",
       "1         Lunch             8  \n",
       "2     Breakfast            15  "
      ]
     },
     "execution_count": 334,
     "metadata": {},
     "output_type": "execute_result"
    }
   ],
   "source": [
    "df.head(3)"
   ]
  },
  {
   "cell_type": "code",
   "execution_count": 355,
   "id": "300f3ffb-5adc-4164-8ba1-f25e7405b280",
   "metadata": {},
   "outputs": [
    {
     "name": "stdout",
     "output_type": "stream",
     "text": [
      "no of unique session 16\n",
      "unique_user_id attend the session 8\n"
     ]
    }
   ],
   "source": [
    "print(\"no of unique session\",df[\"Session ID\"].nunique())\n",
    "print(\"unique_user_id attend the session\",df[\"User ID\"].nunique())"
   ]
  },
  {
   "cell_type": "code",
   "execution_count": 151,
   "id": "2ac98558-0792-41d0-bc6f-7b9b4a578a9f",
   "metadata": {},
   "outputs": [
    {
     "data": {
      "text/html": [
       "<div>\n",
       "<style scoped>\n",
       "    .dataframe tbody tr th:only-of-type {\n",
       "        vertical-align: middle;\n",
       "    }\n",
       "\n",
       "    .dataframe tbody tr th {\n",
       "        vertical-align: top;\n",
       "    }\n",
       "\n",
       "    .dataframe thead th {\n",
       "        text-align: right;\n",
       "    }\n",
       "</style>\n",
       "<table border=\"1\" class=\"dataframe\">\n",
       "  <thead>\n",
       "    <tr style=\"text-align: right;\">\n",
       "      <th></th>\n",
       "      <th>User ID</th>\n",
       "      <th>No of sess attend</th>\n",
       "    </tr>\n",
       "  </thead>\n",
       "  <tbody>\n",
       "    <tr>\n",
       "      <th>0</th>\n",
       "      <td>U001</td>\n",
       "      <td>3</td>\n",
       "    </tr>\n",
       "    <tr>\n",
       "      <th>1</th>\n",
       "      <td>U002</td>\n",
       "      <td>3</td>\n",
       "    </tr>\n",
       "    <tr>\n",
       "      <th>2</th>\n",
       "      <td>U003</td>\n",
       "      <td>3</td>\n",
       "    </tr>\n",
       "    <tr>\n",
       "      <th>3</th>\n",
       "      <td>U004</td>\n",
       "      <td>2</td>\n",
       "    </tr>\n",
       "    <tr>\n",
       "      <th>4</th>\n",
       "      <td>U005</td>\n",
       "      <td>2</td>\n",
       "    </tr>\n",
       "    <tr>\n",
       "      <th>5</th>\n",
       "      <td>U006</td>\n",
       "      <td>1</td>\n",
       "    </tr>\n",
       "    <tr>\n",
       "      <th>6</th>\n",
       "      <td>U007</td>\n",
       "      <td>1</td>\n",
       "    </tr>\n",
       "    <tr>\n",
       "      <th>7</th>\n",
       "      <td>U008</td>\n",
       "      <td>1</td>\n",
       "    </tr>\n",
       "  </tbody>\n",
       "</table>\n",
       "</div>"
      ],
      "text/plain": [
       "  User ID  No of sess attend\n",
       "0    U001                  3\n",
       "1    U002                  3\n",
       "2    U003                  3\n",
       "3    U004                  2\n",
       "4    U005                  2\n",
       "5    U006                  1\n",
       "6    U007                  1\n",
       "7    U008                  1"
      ]
     },
     "execution_count": 151,
     "metadata": {},
     "output_type": "execute_result"
    }
   ],
   "source": [
    "## how many session has each user  had attended\n",
    "user_session=df.groupby(\"User ID\")[\"Session ID\"].count().reset_index()\n",
    "user_session.rename(columns={\"Session ID\":\"No of sess attend\"},inplace =True)\n",
    "user_session"
   ]
  },
  {
   "cell_type": "code",
   "execution_count": 60,
   "id": "ddc793db-ebfc-4645-a12c-239990ae253e",
   "metadata": {},
   "outputs": [
    {
     "data": {
      "text/plain": [
       "2.0"
      ]
     },
     "execution_count": 60,
     "metadata": {},
     "output_type": "execute_result"
    }
   ],
   "source": [
    "## average no of session attend per user\n",
    "user_session[\"No of sess attend\"].mean()\n",
    "## on average each user attend 4 session"
   ]
  },
  {
   "cell_type": "code",
   "execution_count": 457,
   "id": "53875b48-9a73-40ba-9ebe-69ac7c9cd2f9",
   "metadata": {},
   "outputs": [
    {
     "data": {
      "text/html": [
       "<div>\n",
       "<style scoped>\n",
       "    .dataframe tbody tr th:only-of-type {\n",
       "        vertical-align: middle;\n",
       "    }\n",
       "\n",
       "    .dataframe tbody tr th {\n",
       "        vertical-align: top;\n",
       "    }\n",
       "\n",
       "    .dataframe thead th {\n",
       "        text-align: right;\n",
       "    }\n",
       "</style>\n",
       "<table border=\"1\" class=\"dataframe\">\n",
       "  <thead>\n",
       "    <tr style=\"text-align: right;\">\n",
       "      <th></th>\n",
       "      <th>User ID</th>\n",
       "      <th>No of sess attend</th>\n",
       "    </tr>\n",
       "  </thead>\n",
       "  <tbody>\n",
       "    <tr>\n",
       "      <th>0</th>\n",
       "      <td>U001</td>\n",
       "      <td>3</td>\n",
       "    </tr>\n",
       "    <tr>\n",
       "      <th>1</th>\n",
       "      <td>U002</td>\n",
       "      <td>3</td>\n",
       "    </tr>\n",
       "    <tr>\n",
       "      <th>2</th>\n",
       "      <td>U003</td>\n",
       "      <td>3</td>\n",
       "    </tr>\n",
       "    <tr>\n",
       "      <th>3</th>\n",
       "      <td>U004</td>\n",
       "      <td>2</td>\n",
       "    </tr>\n",
       "    <tr>\n",
       "      <th>4</th>\n",
       "      <td>U005</td>\n",
       "      <td>2</td>\n",
       "    </tr>\n",
       "  </tbody>\n",
       "</table>\n",
       "</div>"
      ],
      "text/plain": [
       "  User ID  No of sess attend\n",
       "0    U001                  3\n",
       "1    U002                  3\n",
       "2    U003                  3\n",
       "3    U004                  2\n",
       "4    U005                  2"
      ]
     },
     "execution_count": 457,
     "metadata": {},
     "output_type": "execute_result"
    }
   ],
   "source": [
    "## who are the active user as per the session attandance- the user who have attend the most of the session \n",
    "no_of_session_attend=user_session.sort_values(by=\"No of sess attend\",ascending=False)\n",
    "no_of_session_attend.head()\n",
    "## these are top 5 active users"
   ]
  },
  {
   "cell_type": "code",
   "execution_count": 351,
   "id": "bfd18218-67eb-4d75-8a5a-a3b2b9abaecd",
   "metadata": {},
   "outputs": [
    {
     "data": {
      "text/html": [
       "<div>\n",
       "<style scoped>\n",
       "    .dataframe tbody tr th:only-of-type {\n",
       "        vertical-align: middle;\n",
       "    }\n",
       "\n",
       "    .dataframe tbody tr th {\n",
       "        vertical-align: top;\n",
       "    }\n",
       "\n",
       "    .dataframe thead th {\n",
       "        text-align: right;\n",
       "    }\n",
       "</style>\n",
       "<table border=\"1\" class=\"dataframe\">\n",
       "  <thead>\n",
       "    <tr style=\"text-align: right;\">\n",
       "      <th></th>\n",
       "      <th>Dish Name</th>\n",
       "      <th>no of user attend</th>\n",
       "    </tr>\n",
       "  </thead>\n",
       "  <tbody>\n",
       "    <tr>\n",
       "      <th>1</th>\n",
       "      <td>Grilled Chicken</td>\n",
       "      <td>4</td>\n",
       "    </tr>\n",
       "    <tr>\n",
       "      <th>4</th>\n",
       "      <td>Spaghetti</td>\n",
       "      <td>4</td>\n",
       "    </tr>\n",
       "    <tr>\n",
       "      <th>0</th>\n",
       "      <td>Caesar Salad</td>\n",
       "      <td>3</td>\n",
       "    </tr>\n",
       "    <tr>\n",
       "      <th>3</th>\n",
       "      <td>Pancakes</td>\n",
       "      <td>2</td>\n",
       "    </tr>\n",
       "    <tr>\n",
       "      <th>5</th>\n",
       "      <td>Veggie Burger</td>\n",
       "      <td>2</td>\n",
       "    </tr>\n",
       "    <tr>\n",
       "      <th>2</th>\n",
       "      <td>Oatmeal</td>\n",
       "      <td>1</td>\n",
       "    </tr>\n",
       "  </tbody>\n",
       "</table>\n",
       "</div>"
      ],
      "text/plain": [
       "         Dish Name  no of user attend\n",
       "1  Grilled Chicken                  4\n",
       "4        Spaghetti                  4\n",
       "0     Caesar Salad                  3\n",
       "3         Pancakes                  2\n",
       "5    Veggie Burger                  2\n",
       "2          Oatmeal                  1"
      ]
     },
     "execution_count": 351,
     "metadata": {},
     "output_type": "execute_result"
    }
   ],
   "source": [
    "## which dish is the most popular one according to no of user attenf\n",
    "most_popular_dish=df.groupby(\"Dish Name\")[\"User ID\"].count().reset_index(name=\"no of user attend\")\n",
    "most_popular_dish.sort_values(by=\"no of user attend\",ascending=False)\n",
    "\n",
    "## most of the suer choose to do grilled chicken and spaghetti during the session time"
   ]
  },
  {
   "cell_type": "code",
   "execution_count": 352,
   "id": "44224c64-8253-4b22-946d-f10b5954990c",
   "metadata": {
    "scrolled": true
   },
   "outputs": [
    {
     "data": {
      "text/html": [
       "<div>\n",
       "<style scoped>\n",
       "    .dataframe tbody tr th:only-of-type {\n",
       "        vertical-align: middle;\n",
       "    }\n",
       "\n",
       "    .dataframe tbody tr th {\n",
       "        vertical-align: top;\n",
       "    }\n",
       "\n",
       "    .dataframe thead th {\n",
       "        text-align: right;\n",
       "    }\n",
       "</style>\n",
       "<table border=\"1\" class=\"dataframe\">\n",
       "  <thead>\n",
       "    <tr style=\"text-align: right;\">\n",
       "      <th></th>\n",
       "      <th>User ID</th>\n",
       "      <th>avg rat per each user during session</th>\n",
       "    </tr>\n",
       "  </thead>\n",
       "  <tbody>\n",
       "    <tr>\n",
       "      <th>0</th>\n",
       "      <td>U007</td>\n",
       "      <td>5.000000</td>\n",
       "    </tr>\n",
       "    <tr>\n",
       "      <th>1</th>\n",
       "      <td>U006</td>\n",
       "      <td>4.800000</td>\n",
       "    </tr>\n",
       "    <tr>\n",
       "      <th>2</th>\n",
       "      <td>U004</td>\n",
       "      <td>4.700000</td>\n",
       "    </tr>\n",
       "    <tr>\n",
       "      <th>3</th>\n",
       "      <td>U003</td>\n",
       "      <td>4.600000</td>\n",
       "    </tr>\n",
       "    <tr>\n",
       "      <th>4</th>\n",
       "      <td>U001</td>\n",
       "      <td>4.533333</td>\n",
       "    </tr>\n",
       "    <tr>\n",
       "      <th>5</th>\n",
       "      <td>U005</td>\n",
       "      <td>4.500000</td>\n",
       "    </tr>\n",
       "    <tr>\n",
       "      <th>6</th>\n",
       "      <td>U008</td>\n",
       "      <td>4.300000</td>\n",
       "    </tr>\n",
       "    <tr>\n",
       "      <th>7</th>\n",
       "      <td>U002</td>\n",
       "      <td>4.133333</td>\n",
       "    </tr>\n",
       "  </tbody>\n",
       "</table>\n",
       "</div>"
      ],
      "text/plain": [
       "  User ID  avg rat per each user during session\n",
       "0    U007                              5.000000\n",
       "1    U006                              4.800000\n",
       "2    U004                              4.700000\n",
       "3    U003                              4.600000\n",
       "4    U001                              4.533333\n",
       "5    U005                              4.500000\n",
       "6    U008                              4.300000\n",
       "7    U002                              4.133333"
      ]
     },
     "execution_count": 352,
     "metadata": {},
     "output_type": "execute_result"
    }
   ],
   "source": [
    "## the user who found more rating during the cooking session time\n",
    "\n",
    "avg_rating_during_session_time=df.groupby(\"User ID\")[\"Session Rating\"].mean().sort_values(ascending=False).reset_index(name=\"avg rat per each user during session\")\n",
    "avg_rating_during_session_time"
   ]
  },
  {
   "cell_type": "code",
   "execution_count": 353,
   "id": "3098ba50-2e20-4298-b248-b943fbefdba3",
   "metadata": {},
   "outputs": [
    {
     "data": {
      "text/html": [
       "<div>\n",
       "<style scoped>\n",
       "    .dataframe tbody tr th:only-of-type {\n",
       "        vertical-align: middle;\n",
       "    }\n",
       "\n",
       "    .dataframe tbody tr th {\n",
       "        vertical-align: top;\n",
       "    }\n",
       "\n",
       "    .dataframe thead th {\n",
       "        text-align: right;\n",
       "    }\n",
       "</style>\n",
       "<table border=\"1\" class=\"dataframe\">\n",
       "  <thead>\n",
       "    <tr style=\"text-align: right;\">\n",
       "      <th></th>\n",
       "      <th>User ID</th>\n",
       "      <th>avg rat per each user during session</th>\n",
       "      <th>No of sess attend</th>\n",
       "    </tr>\n",
       "  </thead>\n",
       "  <tbody>\n",
       "    <tr>\n",
       "      <th>0</th>\n",
       "      <td>U007</td>\n",
       "      <td>5.000000</td>\n",
       "      <td>1</td>\n",
       "    </tr>\n",
       "    <tr>\n",
       "      <th>1</th>\n",
       "      <td>U006</td>\n",
       "      <td>4.800000</td>\n",
       "      <td>1</td>\n",
       "    </tr>\n",
       "    <tr>\n",
       "      <th>2</th>\n",
       "      <td>U004</td>\n",
       "      <td>4.700000</td>\n",
       "      <td>2</td>\n",
       "    </tr>\n",
       "    <tr>\n",
       "      <th>3</th>\n",
       "      <td>U003</td>\n",
       "      <td>4.600000</td>\n",
       "      <td>3</td>\n",
       "    </tr>\n",
       "    <tr>\n",
       "      <th>4</th>\n",
       "      <td>U001</td>\n",
       "      <td>4.533333</td>\n",
       "      <td>3</td>\n",
       "    </tr>\n",
       "    <tr>\n",
       "      <th>5</th>\n",
       "      <td>U005</td>\n",
       "      <td>4.500000</td>\n",
       "      <td>2</td>\n",
       "    </tr>\n",
       "    <tr>\n",
       "      <th>6</th>\n",
       "      <td>U008</td>\n",
       "      <td>4.300000</td>\n",
       "      <td>1</td>\n",
       "    </tr>\n",
       "    <tr>\n",
       "      <th>7</th>\n",
       "      <td>U002</td>\n",
       "      <td>4.133333</td>\n",
       "      <td>3</td>\n",
       "    </tr>\n",
       "  </tbody>\n",
       "</table>\n",
       "</div>"
      ],
      "text/plain": [
       "  User ID  avg rat per each user during session  No of sess attend\n",
       "0    U007                              5.000000                  1\n",
       "1    U006                              4.800000                  1\n",
       "2    U004                              4.700000                  2\n",
       "3    U003                              4.600000                  3\n",
       "4    U001                              4.533333                  3\n",
       "5    U005                              4.500000                  2\n",
       "6    U008                              4.300000                  1\n",
       "7    U002                              4.133333                  3"
      ]
     },
     "execution_count": 353,
     "metadata": {},
     "output_type": "execute_result"
    }
   ],
   "source": [
    "## merged the avg ratting of each user during session time and how many time each user attend the session\n",
    "pd.merge(avg_rating_during_session_time,no_of_session_attend,on=\"User ID\",how=\"left\")"
   ]
  },
  {
   "cell_type": "code",
   "execution_count": 360,
   "id": "9d957556-6aef-436a-a4ea-a64780b606d9",
   "metadata": {},
   "outputs": [
    {
     "data": {
      "text/html": [
       "<div>\n",
       "<style scoped>\n",
       "    .dataframe tbody tr th:only-of-type {\n",
       "        vertical-align: middle;\n",
       "    }\n",
       "\n",
       "    .dataframe tbody tr th {\n",
       "        vertical-align: top;\n",
       "    }\n",
       "\n",
       "    .dataframe thead th {\n",
       "        text-align: right;\n",
       "    }\n",
       "</style>\n",
       "<table border=\"1\" class=\"dataframe\">\n",
       "  <thead>\n",
       "    <tr style=\"text-align: right;\">\n",
       "      <th></th>\n",
       "      <th>Age</th>\n",
       "      <th>no of people attend the session</th>\n",
       "    </tr>\n",
       "  </thead>\n",
       "  <tbody>\n",
       "    <tr>\n",
       "      <th>0</th>\n",
       "      <td>25</td>\n",
       "      <td>1</td>\n",
       "    </tr>\n",
       "    <tr>\n",
       "      <th>1</th>\n",
       "      <td>27</td>\n",
       "      <td>2</td>\n",
       "    </tr>\n",
       "    <tr>\n",
       "      <th>2</th>\n",
       "      <td>28</td>\n",
       "      <td>3</td>\n",
       "    </tr>\n",
       "    <tr>\n",
       "      <th>3</th>\n",
       "      <td>30</td>\n",
       "      <td>2</td>\n",
       "    </tr>\n",
       "    <tr>\n",
       "      <th>4</th>\n",
       "      <td>31</td>\n",
       "      <td>1</td>\n",
       "    </tr>\n",
       "    <tr>\n",
       "      <th>5</th>\n",
       "      <td>35</td>\n",
       "      <td>3</td>\n",
       "    </tr>\n",
       "    <tr>\n",
       "      <th>6</th>\n",
       "      <td>38</td>\n",
       "      <td>1</td>\n",
       "    </tr>\n",
       "    <tr>\n",
       "      <th>7</th>\n",
       "      <td>42</td>\n",
       "      <td>3</td>\n",
       "    </tr>\n",
       "  </tbody>\n",
       "</table>\n",
       "</div>"
      ],
      "text/plain": [
       "   Age  no of people attend the session\n",
       "0   25                                1\n",
       "1   27                                2\n",
       "2   28                                3\n",
       "3   30                                2\n",
       "4   31                                1\n",
       "5   35                                3\n",
       "6   38                                1\n",
       "7   42                                3"
      ]
     },
     "execution_count": 360,
     "metadata": {},
     "output_type": "execute_result"
    }
   ],
   "source": [
    "## does the age influence participation of the cooking session\n",
    "attedance_accorsing_to_age=df.groupby(\"Age\")[\"Session ID\"].count().reset_index(name=\"no of people attend the session\")\n",
    "attedance_accorsing_to_age"
   ]
  },
  {
   "cell_type": "code",
   "execution_count": 370,
   "id": "85955a52-c57c-495f-b51d-701224982222",
   "metadata": {},
   "outputs": [
    {
     "data": {
      "text/plain": [
       "<Axes: >"
      ]
     },
     "execution_count": 370,
     "metadata": {},
     "output_type": "execute_result"
    },
    {
     "data": {
      "image/png": "[encoded data removed]",
      "text/plain": [
       "<Figure size 640x480 with 1 Axes>"
      ]
     },
     "metadata": {},
     "output_type": "display_data"
    }
   ],
   "source": [
    "## are certain region more engaged in the cooking session\n",
    "region_attendence=df.groupby(\"Location\")[\"Session ID\"].count().reset_index(name=\"no of times session occured\")\n",
    "region_attendence.plot(kind=\"bar\")"
   ]
  },
  {
   "cell_type": "code",
   "execution_count": 369,
   "id": "f5ea8388-b959-4d27-9f24-12c24a755acd",
   "metadata": {},
   "outputs": [
    {
     "data": {
      "text/plain": [
       "[]"
      ]
     },
     "execution_count": 369,
     "metadata": {},
     "output_type": "execute_result"
    },
    {
     "data": {
      "image/png": "[encoded data removed]",
      "text/plain": [
       "<Figure size 640x480 with 1 Axes>"
      ]
     },
     "metadata": {},
     "output_type": "display_data"
    }
   ],
   "source": [
    "## in which region more engaged in the cooking session\n",
    "import matplotlib.pyplot as plt\n",
    "plt.plot(region_attendence[\"Location\"],region_attendence[\"no of times session occured\"])\n",
    "plt.xlabel(\"Location\")\n",
    "plt.ylabel(\"no of times session happened there\")\n",
    "plt.xticks(rotation=90)\n",
    "plt.plot()"
   ]
  },
  {
   "cell_type": "code",
   "execution_count": 372,
   "id": "6f5c9463-2823-454d-b91b-fdf5ad5ed9cc",
   "metadata": {},
   "outputs": [
    {
     "data": {
      "text/plain": [
       "Text(0, 0.5, 'no of session attended')"
      ]
     },
     "execution_count": 372,
     "metadata": {},
     "output_type": "execute_result"
    },
    {
     "data": {
      "image/png": "[encoded data removed]",
      "text/plain": [
       "<Figure size 640x480 with 1 Axes>"
      ]
     },
     "metadata": {},
     "output_type": "display_data"
    }
   ],
   "source": [
    "import seaborn as sns\n",
    "plt.plot(df_age[\"Age\"],df_age[\"Session ID\"],marker=\"*\")\n",
    "plt.xlabel(\"age\")\n",
    "plt.ylabel(\"no of session attended\")\n",
    "## no co-realtion between the age and the no of people attend the session"
   ]
  },
  {
   "cell_type": "code",
   "execution_count": 99,
   "id": "e8056e72-28c8-485f-b001-12dccf931152",
   "metadata": {},
   "outputs": [
    {
     "data": {
      "text/html": [
       "<div>\n",
       "<style scoped>\n",
       "    .dataframe tbody tr th:only-of-type {\n",
       "        vertical-align: middle;\n",
       "    }\n",
       "\n",
       "    .dataframe tbody tr th {\n",
       "        vertical-align: top;\n",
       "    }\n",
       "\n",
       "    .dataframe thead th {\n",
       "        text-align: right;\n",
       "    }\n",
       "</style>\n",
       "<table border=\"1\" class=\"dataframe\">\n",
       "  <thead>\n",
       "    <tr style=\"text-align: right;\">\n",
       "      <th></th>\n",
       "      <th>Session ID</th>\n",
       "      <th>User ID</th>\n",
       "      <th>Dish Name</th>\n",
       "      <th>Meal Type</th>\n",
       "      <th>Session Start</th>\n",
       "      <th>Session End</th>\n",
       "      <th>Duration (mins)</th>\n",
       "      <th>Session Rating</th>\n",
       "      <th>User Name</th>\n",
       "      <th>Age</th>\n",
       "      <th>Location</th>\n",
       "      <th>Registration Date</th>\n",
       "      <th>Phone</th>\n",
       "      <th>Email</th>\n",
       "      <th>Favorite Meal</th>\n",
       "      <th>Total Orders</th>\n",
       "    </tr>\n",
       "  </thead>\n",
       "  <tbody>\n",
       "    <tr>\n",
       "      <th>0</th>\n",
       "      <td>S001</td>\n",
       "      <td>U001</td>\n",
       "      <td>Spaghetti</td>\n",
       "      <td>Dinner</td>\n",
       "      <td>2024-12-01 19:00:00</td>\n",
       "      <td>2024-12-01 19:30:00</td>\n",
       "      <td>30</td>\n",
       "      <td>4.5</td>\n",
       "      <td>Alice Johnson</td>\n",
       "      <td>28</td>\n",
       "      <td>New York</td>\n",
       "      <td>2023-01-15</td>\n",
       "      <td>123-456-7890</td>\n",
       "      <td>alice@email.com</td>\n",
       "      <td>Dinner</td>\n",
       "      <td>12</td>\n",
       "    </tr>\n",
       "    <tr>\n",
       "      <th>1</th>\n",
       "      <td>S002</td>\n",
       "      <td>U002</td>\n",
       "      <td>Caesar Salad</td>\n",
       "      <td>Lunch</td>\n",
       "      <td>2024-12-01 12:00:00</td>\n",
       "      <td>2024-12-01 12:20:00</td>\n",
       "      <td>20</td>\n",
       "      <td>4.0</td>\n",
       "      <td>Bob Smith</td>\n",
       "      <td>35</td>\n",
       "      <td>Los Angeles</td>\n",
       "      <td>2023-02-20</td>\n",
       "      <td>987-654-3210</td>\n",
       "      <td>bob@email.com</td>\n",
       "      <td>Lunch</td>\n",
       "      <td>8</td>\n",
       "    </tr>\n",
       "    <tr>\n",
       "      <th>2</th>\n",
       "      <td>S003</td>\n",
       "      <td>U003</td>\n",
       "      <td>Grilled Chicken</td>\n",
       "      <td>Dinner</td>\n",
       "      <td>2024-12-02 19:30:00</td>\n",
       "      <td>2024-12-02 20:10:00</td>\n",
       "      <td>40</td>\n",
       "      <td>4.8</td>\n",
       "      <td>Charlie Lee</td>\n",
       "      <td>42</td>\n",
       "      <td>Chicago</td>\n",
       "      <td>2023-03-10</td>\n",
       "      <td>555-123-4567</td>\n",
       "      <td>charlie@email.com</td>\n",
       "      <td>Breakfast</td>\n",
       "      <td>15</td>\n",
       "    </tr>\n",
       "    <tr>\n",
       "      <th>3</th>\n",
       "      <td>S004</td>\n",
       "      <td>U001</td>\n",
       "      <td>Pancakes</td>\n",
       "      <td>Breakfast</td>\n",
       "      <td>2024-12-02 07:30:00</td>\n",
       "      <td>2024-12-02 08:00:00</td>\n",
       "      <td>30</td>\n",
       "      <td>4.2</td>\n",
       "      <td>Alice Johnson</td>\n",
       "      <td>28</td>\n",
       "      <td>New York</td>\n",
       "      <td>2023-01-15</td>\n",
       "      <td>123-456-7890</td>\n",
       "      <td>alice@email.com</td>\n",
       "      <td>Dinner</td>\n",
       "      <td>12</td>\n",
       "    </tr>\n",
       "    <tr>\n",
       "      <th>4</th>\n",
       "      <td>S005</td>\n",
       "      <td>U004</td>\n",
       "      <td>Caesar Salad</td>\n",
       "      <td>Lunch</td>\n",
       "      <td>2024-12-03 13:00:00</td>\n",
       "      <td>2024-12-03 13:15:00</td>\n",
       "      <td>15</td>\n",
       "      <td>4.7</td>\n",
       "      <td>David Brown</td>\n",
       "      <td>27</td>\n",
       "      <td>San Francisco</td>\n",
       "      <td>2023-04-05</td>\n",
       "      <td>444-333-2222</td>\n",
       "      <td>david@email.com</td>\n",
       "      <td>Dinner</td>\n",
       "      <td>10</td>\n",
       "    </tr>\n",
       "  </tbody>\n",
       "</table>\n",
       "</div>"
      ],
      "text/plain": [
       "  Session ID User ID        Dish Name  Meal Type       Session Start  \\\n",
       "0       S001    U001        Spaghetti     Dinner 2024-12-01 19:00:00   \n",
       "1       S002    U002     Caesar Salad      Lunch 2024-12-01 12:00:00   \n",
       "2       S003    U003  Grilled Chicken     Dinner 2024-12-02 19:30:00   \n",
       "3       S004    U001         Pancakes  Breakfast 2024-12-02 07:30:00   \n",
       "4       S005    U004     Caesar Salad      Lunch 2024-12-03 13:00:00   \n",
       "\n",
       "          Session End  Duration (mins)  Session Rating      User Name  Age  \\\n",
       "0 2024-12-01 19:30:00               30             4.5  Alice Johnson   28   \n",
       "1 2024-12-01 12:20:00               20             4.0      Bob Smith   35   \n",
       "2 2024-12-02 20:10:00               40             4.8    Charlie Lee   42   \n",
       "3 2024-12-02 08:00:00               30             4.2  Alice Johnson   28   \n",
       "4 2024-12-03 13:15:00               15             4.7    David Brown   27   \n",
       "\n",
       "        Location Registration Date         Phone              Email  \\\n",
       "0       New York        2023-01-15  123-456-7890    alice@email.com   \n",
       "1    Los Angeles        2023-02-20  987-654-3210      bob@email.com   \n",
       "2        Chicago        2023-03-10  555-123-4567  charlie@email.com   \n",
       "3       New York        2023-01-15  123-456-7890    alice@email.com   \n",
       "4  San Francisco        2023-04-05  444-333-2222    david@email.com   \n",
       "\n",
       "  Favorite Meal  Total Orders  \n",
       "0        Dinner            12  \n",
       "1         Lunch             8  \n",
       "2     Breakfast            15  \n",
       "3        Dinner            12  \n",
       "4        Dinner            10  "
      ]
     },
     "execution_count": 99,
     "metadata": {},
     "output_type": "execute_result"
    }
   ],
   "source": [
    "df.head()"
   ]
  },
  {
   "cell_type": "code",
   "execution_count": 120,
   "id": "9842a498-5bdb-4f4e-96ed-fe5cae57fba5",
   "metadata": {},
   "outputs": [
    {
     "data": {
      "text/plain": [
       "<Axes: >"
      ]
     },
     "execution_count": 120,
     "metadata": {},
     "output_type": "execute_result"
    },
    {
     "data": {
      "image/png": "[encoded data removed]",
      "text/plain": [
       "<Figure size 640x480 with 1 Axes>"
      ]
     },
     "metadata": {},
     "output_type": "display_data"
    }
   ],
   "source": [
    "## most popular session\n",
    "df.groupby(\"Session ID\")[\"User ID\"].count().reset_index().plot(kind=\"bar\")"
   ]
  },
  {
   "cell_type": "code",
   "execution_count": null,
   "id": "c0dba8d5-0271-440a-9290-511e2910e5f5",
   "metadata": {},
   "outputs": [],
   "source": [
    "## jump into order details table"
   ]
  },
  {
   "cell_type": "code",
   "execution_count": 138,
   "id": "e207fc5c-ff01-4029-aa74-8f1d6ea0c539",
   "metadata": {},
   "outputs": [
    {
     "data": {
      "text/plain": [
       "0     5.0\n",
       "1     4.0\n",
       "2     NaN\n",
       "3     4.0\n",
       "4     4.0\n",
       "5     4.0\n",
       "6     4.0\n",
       "7     NaN\n",
       "8     5.0\n",
       "9     4.0\n",
       "10    4.0\n",
       "11    4.0\n",
       "12    4.0\n",
       "13    5.0\n",
       "14    5.0\n",
       "15    4.0\n",
       "Name: Rating, dtype: float64"
      ]
     },
     "execution_count": 138,
     "metadata": {},
     "output_type": "execute_result"
    }
   ],
   "source": [
    "order_details[\"Rating\"]"
   ]
  },
  {
   "cell_type": "code",
   "execution_count": 135,
   "id": "561939e8-8b3b-410b-8703-7b5bfd88394a",
   "metadata": {},
   "outputs": [
    {
     "data": {
      "text/plain": [
       "2"
      ]
     },
     "execution_count": 135,
     "metadata": {},
     "output_type": "execute_result"
    }
   ],
   "source": [
    "order_details[\"Rating\"].isnull().sum()"
   ]
  },
  {
   "cell_type": "code",
   "execution_count": 378,
   "id": "0da1a8e0-fe80-472c-a4e5-9e8a411dbe7b",
   "metadata": {},
   "outputs": [
    {
     "data": {
      "text/plain": [
       "<Axes: xlabel='Rating', ylabel='Count'>"
      ]
     },
     "execution_count": 378,
     "metadata": {},
     "output_type": "execute_result"
    },
    {
     "data": {
      "image/png": "[encoded data removed]",
      "text/plain": [
       "<Figure size 640x480 with 1 Axes>"
      ]
     },
     "metadata": {},
     "output_type": "display_data"
    }
   ],
   "source": [
    "## first see the distribution of the rating column\n",
    "sns.histplot(order_details[\"Rating\"],kde=True)"
   ]
  },
  {
   "cell_type": "code",
   "execution_count": 381,
   "id": "55823b8c-059c-419b-b4a2-b3cbd122c56d",
   "metadata": {},
   "outputs": [],
   "source": [
    "## i basically used the median to fill the msssing value of the rating column\n",
    "order_details[\"Rating\"].fillna(round(order_details[\"Rating\"].median(),0),inplace=True)"
   ]
  },
  {
   "cell_type": "code",
   "execution_count": 382,
   "id": "275ef918-c1ad-4f5a-b06e-bdad7afb42af",
   "metadata": {},
   "outputs": [
    {
     "data": {
      "text/plain": [
       "Order ID        0\n",
       "User ID         0\n",
       "Order Date      0\n",
       "Meal Type       0\n",
       "Dish Name       0\n",
       "Order Status    0\n",
       "Amount (USD)    0\n",
       "Time of Day     0\n",
       "Rating          0\n",
       "Session ID      0\n",
       "dtype: int64"
      ]
     },
     "execution_count": 382,
     "metadata": {},
     "output_type": "execute_result"
    }
   ],
   "source": [
    "order_details.isnull().sum()\n",
    "## there is no missing value present "
   ]
  },
  {
   "cell_type": "code",
   "execution_count": 157,
   "id": "71108c31-2785-4105-97a1-8da32641ddff",
   "metadata": {},
   "outputs": [
    {
     "data": {
      "text/plain": [
       "16"
      ]
     },
     "execution_count": 157,
     "metadata": {},
     "output_type": "execute_result"
    }
   ],
   "source": [
    "order_details[\"Session ID\"].nunique()"
   ]
  },
  {
   "cell_type": "code",
   "execution_count": 383,
   "id": "d6d4c595-4255-4a06-ba5a-0c34e3c5396d",
   "metadata": {},
   "outputs": [
    {
     "data": {
      "text/html": [
       "<div>\n",
       "<style scoped>\n",
       "    .dataframe tbody tr th:only-of-type {\n",
       "        vertical-align: middle;\n",
       "    }\n",
       "\n",
       "    .dataframe tbody tr th {\n",
       "        vertical-align: top;\n",
       "    }\n",
       "\n",
       "    .dataframe thead th {\n",
       "        text-align: right;\n",
       "    }\n",
       "</style>\n",
       "<table border=\"1\" class=\"dataframe\">\n",
       "  <thead>\n",
       "    <tr style=\"text-align: right;\">\n",
       "      <th></th>\n",
       "      <th>Order ID</th>\n",
       "      <th>User ID_session</th>\n",
       "      <th>Order Date</th>\n",
       "      <th>Meal Type_session</th>\n",
       "      <th>Dish Name_session</th>\n",
       "      <th>Order Status</th>\n",
       "      <th>Amount (USD)</th>\n",
       "      <th>Time of Day</th>\n",
       "      <th>Rating</th>\n",
       "      <th>Session ID</th>\n",
       "      <th>User ID_order</th>\n",
       "      <th>Dish Name_order</th>\n",
       "      <th>Meal Type_order</th>\n",
       "      <th>Session Start</th>\n",
       "      <th>Session End</th>\n",
       "      <th>Duration (mins)</th>\n",
       "      <th>Session Rating</th>\n",
       "    </tr>\n",
       "  </thead>\n",
       "  <tbody>\n",
       "    <tr>\n",
       "      <th>0</th>\n",
       "      <td>1001</td>\n",
       "      <td>U001</td>\n",
       "      <td>2024-12-01</td>\n",
       "      <td>Dinner</td>\n",
       "      <td>Spaghetti</td>\n",
       "      <td>Completed</td>\n",
       "      <td>15.0</td>\n",
       "      <td>Night</td>\n",
       "      <td>5.0</td>\n",
       "      <td>S001</td>\n",
       "      <td>U001</td>\n",
       "      <td>Spaghetti</td>\n",
       "      <td>Dinner</td>\n",
       "      <td>2024-12-01 19:00:00</td>\n",
       "      <td>2024-12-01 19:30:00</td>\n",
       "      <td>30</td>\n",
       "      <td>4.5</td>\n",
       "    </tr>\n",
       "    <tr>\n",
       "      <th>1</th>\n",
       "      <td>1002</td>\n",
       "      <td>U002</td>\n",
       "      <td>2024-12-01</td>\n",
       "      <td>Lunch</td>\n",
       "      <td>Caesar Salad</td>\n",
       "      <td>Completed</td>\n",
       "      <td>10.0</td>\n",
       "      <td>Day</td>\n",
       "      <td>4.0</td>\n",
       "      <td>S002</td>\n",
       "      <td>U002</td>\n",
       "      <td>Caesar Salad</td>\n",
       "      <td>Lunch</td>\n",
       "      <td>2024-12-01 12:00:00</td>\n",
       "      <td>2024-12-01 12:20:00</td>\n",
       "      <td>20</td>\n",
       "      <td>4.0</td>\n",
       "    </tr>\n",
       "    <tr>\n",
       "      <th>2</th>\n",
       "      <td>1003</td>\n",
       "      <td>U003</td>\n",
       "      <td>2024-12-02</td>\n",
       "      <td>Dinner</td>\n",
       "      <td>Grilled Chicken</td>\n",
       "      <td>Canceled</td>\n",
       "      <td>12.5</td>\n",
       "      <td>Night</td>\n",
       "      <td>4.0</td>\n",
       "      <td>S003</td>\n",
       "      <td>U003</td>\n",
       "      <td>Grilled Chicken</td>\n",
       "      <td>Dinner</td>\n",
       "      <td>2024-12-02 19:30:00</td>\n",
       "      <td>2024-12-02 20:10:00</td>\n",
       "      <td>40</td>\n",
       "      <td>4.8</td>\n",
       "    </tr>\n",
       "    <tr>\n",
       "      <th>3</th>\n",
       "      <td>1004</td>\n",
       "      <td>U001</td>\n",
       "      <td>2024-12-02</td>\n",
       "      <td>Breakfast</td>\n",
       "      <td>Pancakes</td>\n",
       "      <td>Completed</td>\n",
       "      <td>8.0</td>\n",
       "      <td>Morning</td>\n",
       "      <td>4.0</td>\n",
       "      <td>S004</td>\n",
       "      <td>U001</td>\n",
       "      <td>Pancakes</td>\n",
       "      <td>Breakfast</td>\n",
       "      <td>2024-12-02 07:30:00</td>\n",
       "      <td>2024-12-02 08:00:00</td>\n",
       "      <td>30</td>\n",
       "      <td>4.2</td>\n",
       "    </tr>\n",
       "    <tr>\n",
       "      <th>4</th>\n",
       "      <td>1005</td>\n",
       "      <td>U004</td>\n",
       "      <td>2024-12-03</td>\n",
       "      <td>Lunch</td>\n",
       "      <td>Caesar Salad</td>\n",
       "      <td>Completed</td>\n",
       "      <td>9.0</td>\n",
       "      <td>Day</td>\n",
       "      <td>4.0</td>\n",
       "      <td>S005</td>\n",
       "      <td>U004</td>\n",
       "      <td>Caesar Salad</td>\n",
       "      <td>Lunch</td>\n",
       "      <td>2024-12-03 13:00:00</td>\n",
       "      <td>2024-12-03 13:15:00</td>\n",
       "      <td>15</td>\n",
       "      <td>4.7</td>\n",
       "    </tr>\n",
       "    <tr>\n",
       "      <th>5</th>\n",
       "      <td>1006</td>\n",
       "      <td>U002</td>\n",
       "      <td>2024-12-03</td>\n",
       "      <td>Dinner</td>\n",
       "      <td>Spaghetti</td>\n",
       "      <td>Completed</td>\n",
       "      <td>14.0</td>\n",
       "      <td>Night</td>\n",
       "      <td>4.0</td>\n",
       "      <td>S006</td>\n",
       "      <td>U002</td>\n",
       "      <td>Spaghetti</td>\n",
       "      <td>Dinner</td>\n",
       "      <td>2024-12-03 18:30:00</td>\n",
       "      <td>2024-12-03 19:00:00</td>\n",
       "      <td>30</td>\n",
       "      <td>4.3</td>\n",
       "    </tr>\n",
       "    <tr>\n",
       "      <th>6</th>\n",
       "      <td>1007</td>\n",
       "      <td>U005</td>\n",
       "      <td>2024-12-04</td>\n",
       "      <td>Dinner</td>\n",
       "      <td>Grilled Chicken</td>\n",
       "      <td>Completed</td>\n",
       "      <td>13.5</td>\n",
       "      <td>Night</td>\n",
       "      <td>4.0</td>\n",
       "      <td>S007</td>\n",
       "      <td>U005</td>\n",
       "      <td>Grilled Chicken</td>\n",
       "      <td>Dinner</td>\n",
       "      <td>2024-12-04 18:00:00</td>\n",
       "      <td>2024-12-04 18:45:00</td>\n",
       "      <td>45</td>\n",
       "      <td>4.6</td>\n",
       "    </tr>\n",
       "    <tr>\n",
       "      <th>7</th>\n",
       "      <td>1008</td>\n",
       "      <td>U003</td>\n",
       "      <td>2024-12-04</td>\n",
       "      <td>Lunch</td>\n",
       "      <td>Veggie Burger</td>\n",
       "      <td>Canceled</td>\n",
       "      <td>11.0</td>\n",
       "      <td>Day</td>\n",
       "      <td>4.0</td>\n",
       "      <td>S008</td>\n",
       "      <td>U003</td>\n",
       "      <td>Veggie Burger</td>\n",
       "      <td>Lunch</td>\n",
       "      <td>2024-12-04 13:30:00</td>\n",
       "      <td>2024-12-04 13:50:00</td>\n",
       "      <td>20</td>\n",
       "      <td>4.4</td>\n",
       "    </tr>\n",
       "    <tr>\n",
       "      <th>8</th>\n",
       "      <td>1009</td>\n",
       "      <td>U001</td>\n",
       "      <td>2024-12-05</td>\n",
       "      <td>Dinner</td>\n",
       "      <td>Grilled Chicken</td>\n",
       "      <td>Completed</td>\n",
       "      <td>12.0</td>\n",
       "      <td>Night</td>\n",
       "      <td>5.0</td>\n",
       "      <td>S009</td>\n",
       "      <td>U001</td>\n",
       "      <td>Grilled Chicken</td>\n",
       "      <td>Dinner</td>\n",
       "      <td>2024-12-05 19:00:00</td>\n",
       "      <td>2024-12-05 19:40:00</td>\n",
       "      <td>40</td>\n",
       "      <td>4.9</td>\n",
       "    </tr>\n",
       "    <tr>\n",
       "      <th>9</th>\n",
       "      <td>1010</td>\n",
       "      <td>U002</td>\n",
       "      <td>2024-12-05</td>\n",
       "      <td>Breakfast</td>\n",
       "      <td>Oatmeal</td>\n",
       "      <td>Completed</td>\n",
       "      <td>7.0</td>\n",
       "      <td>Morning</td>\n",
       "      <td>4.0</td>\n",
       "      <td>S010</td>\n",
       "      <td>U002</td>\n",
       "      <td>Oatmeal</td>\n",
       "      <td>Breakfast</td>\n",
       "      <td>2024-12-05 07:00:00</td>\n",
       "      <td>2024-12-05 07:10:00</td>\n",
       "      <td>10</td>\n",
       "      <td>4.1</td>\n",
       "    </tr>\n",
       "    <tr>\n",
       "      <th>10</th>\n",
       "      <td>1011</td>\n",
       "      <td>U003</td>\n",
       "      <td>2024-12-06</td>\n",
       "      <td>Breakfast</td>\n",
       "      <td>Pancakes</td>\n",
       "      <td>Completed</td>\n",
       "      <td>8.5</td>\n",
       "      <td>Morning</td>\n",
       "      <td>4.0</td>\n",
       "      <td>S011</td>\n",
       "      <td>U003</td>\n",
       "      <td>Pancakes</td>\n",
       "      <td>Breakfast</td>\n",
       "      <td>2024-12-06 08:00:00</td>\n",
       "      <td>2024-12-06 08:30:00</td>\n",
       "      <td>30</td>\n",
       "      <td>4.6</td>\n",
       "    </tr>\n",
       "    <tr>\n",
       "      <th>11</th>\n",
       "      <td>1012</td>\n",
       "      <td>U004</td>\n",
       "      <td>2024-12-06</td>\n",
       "      <td>Dinner</td>\n",
       "      <td>Spaghetti</td>\n",
       "      <td>Completed</td>\n",
       "      <td>12.5</td>\n",
       "      <td>Night</td>\n",
       "      <td>4.0</td>\n",
       "      <td>S012</td>\n",
       "      <td>U004</td>\n",
       "      <td>Spaghetti</td>\n",
       "      <td>Dinner</td>\n",
       "      <td>2024-12-06 19:00:00</td>\n",
       "      <td>2024-12-06 19:40:00</td>\n",
       "      <td>40</td>\n",
       "      <td>4.7</td>\n",
       "    </tr>\n",
       "    <tr>\n",
       "      <th>12</th>\n",
       "      <td>1013</td>\n",
       "      <td>U005</td>\n",
       "      <td>2024-12-07</td>\n",
       "      <td>Lunch</td>\n",
       "      <td>Caesar Salad</td>\n",
       "      <td>Completed</td>\n",
       "      <td>9.0</td>\n",
       "      <td>Day</td>\n",
       "      <td>4.0</td>\n",
       "      <td>S013</td>\n",
       "      <td>U005</td>\n",
       "      <td>Caesar Salad</td>\n",
       "      <td>Lunch</td>\n",
       "      <td>2024-12-07 12:30:00</td>\n",
       "      <td>2024-12-07 13:00:00</td>\n",
       "      <td>30</td>\n",
       "      <td>4.4</td>\n",
       "    </tr>\n",
       "    <tr>\n",
       "      <th>13</th>\n",
       "      <td>1014</td>\n",
       "      <td>U006</td>\n",
       "      <td>2024-12-07</td>\n",
       "      <td>Dinner</td>\n",
       "      <td>Grilled Chicken</td>\n",
       "      <td>Completed</td>\n",
       "      <td>13.0</td>\n",
       "      <td>Night</td>\n",
       "      <td>5.0</td>\n",
       "      <td>S014</td>\n",
       "      <td>U006</td>\n",
       "      <td>Grilled Chicken</td>\n",
       "      <td>Dinner</td>\n",
       "      <td>2024-12-07 18:00:00</td>\n",
       "      <td>2024-12-07 18:45:00</td>\n",
       "      <td>45</td>\n",
       "      <td>4.8</td>\n",
       "    </tr>\n",
       "    <tr>\n",
       "      <th>14</th>\n",
       "      <td>1015</td>\n",
       "      <td>U007</td>\n",
       "      <td>2024-12-08</td>\n",
       "      <td>Dinner</td>\n",
       "      <td>Spaghetti</td>\n",
       "      <td>Completed</td>\n",
       "      <td>14.0</td>\n",
       "      <td>Night</td>\n",
       "      <td>5.0</td>\n",
       "      <td>S015</td>\n",
       "      <td>U007</td>\n",
       "      <td>Spaghetti</td>\n",
       "      <td>Dinner</td>\n",
       "      <td>2024-12-08 19:30:00</td>\n",
       "      <td>2024-12-08 20:10:00</td>\n",
       "      <td>40</td>\n",
       "      <td>5.0</td>\n",
       "    </tr>\n",
       "    <tr>\n",
       "      <th>15</th>\n",
       "      <td>1016</td>\n",
       "      <td>U008</td>\n",
       "      <td>2024-12-08</td>\n",
       "      <td>Lunch</td>\n",
       "      <td>Veggie Burger</td>\n",
       "      <td>Completed</td>\n",
       "      <td>11.0</td>\n",
       "      <td>Day</td>\n",
       "      <td>4.0</td>\n",
       "      <td>S016</td>\n",
       "      <td>U008</td>\n",
       "      <td>Veggie Burger</td>\n",
       "      <td>Lunch</td>\n",
       "      <td>2024-12-08 13:30:00</td>\n",
       "      <td>2024-12-08 13:50:00</td>\n",
       "      <td>20</td>\n",
       "      <td>4.3</td>\n",
       "    </tr>\n",
       "  </tbody>\n",
       "</table>\n",
       "</div>"
      ],
      "text/plain": [
       "    Order ID User ID_session Order Date Meal Type_session Dish Name_session  \\\n",
       "0       1001            U001 2024-12-01            Dinner         Spaghetti   \n",
       "1       1002            U002 2024-12-01             Lunch      Caesar Salad   \n",
       "2       1003            U003 2024-12-02            Dinner   Grilled Chicken   \n",
       "3       1004            U001 2024-12-02         Breakfast          Pancakes   \n",
       "4       1005            U004 2024-12-03             Lunch      Caesar Salad   \n",
       "5       1006            U002 2024-12-03            Dinner         Spaghetti   \n",
       "6       1007            U005 2024-12-04            Dinner   Grilled Chicken   \n",
       "7       1008            U003 2024-12-04             Lunch     Veggie Burger   \n",
       "8       1009            U001 2024-12-05            Dinner   Grilled Chicken   \n",
       "9       1010            U002 2024-12-05         Breakfast           Oatmeal   \n",
       "10      1011            U003 2024-12-06         Breakfast          Pancakes   \n",
       "11      1012            U004 2024-12-06            Dinner         Spaghetti   \n",
       "12      1013            U005 2024-12-07             Lunch      Caesar Salad   \n",
       "13      1014            U006 2024-12-07            Dinner   Grilled Chicken   \n",
       "14      1015            U007 2024-12-08            Dinner         Spaghetti   \n",
       "15      1016            U008 2024-12-08             Lunch     Veggie Burger   \n",
       "\n",
       "   Order Status  Amount (USD) Time of Day  Rating Session ID User ID_order  \\\n",
       "0     Completed          15.0       Night     5.0       S001          U001   \n",
       "1     Completed          10.0         Day     4.0       S002          U002   \n",
       "2      Canceled          12.5       Night     4.0       S003          U003   \n",
       "3     Completed           8.0     Morning     4.0       S004          U001   \n",
       "4     Completed           9.0         Day     4.0       S005          U004   \n",
       "5     Completed          14.0       Night     4.0       S006          U002   \n",
       "6     Completed          13.5       Night     4.0       S007          U005   \n",
       "7      Canceled          11.0         Day     4.0       S008          U003   \n",
       "8     Completed          12.0       Night     5.0       S009          U001   \n",
       "9     Completed           7.0     Morning     4.0       S010          U002   \n",
       "10    Completed           8.5     Morning     4.0       S011          U003   \n",
       "11    Completed          12.5       Night     4.0       S012          U004   \n",
       "12    Completed           9.0         Day     4.0       S013          U005   \n",
       "13    Completed          13.0       Night     5.0       S014          U006   \n",
       "14    Completed          14.0       Night     5.0       S015          U007   \n",
       "15    Completed          11.0         Day     4.0       S016          U008   \n",
       "\n",
       "    Dish Name_order Meal Type_order       Session Start         Session End  \\\n",
       "0         Spaghetti          Dinner 2024-12-01 19:00:00 2024-12-01 19:30:00   \n",
       "1      Caesar Salad           Lunch 2024-12-01 12:00:00 2024-12-01 12:20:00   \n",
       "2   Grilled Chicken          Dinner 2024-12-02 19:30:00 2024-12-02 20:10:00   \n",
       "3          Pancakes       Breakfast 2024-12-02 07:30:00 2024-12-02 08:00:00   \n",
       "4      Caesar Salad           Lunch 2024-12-03 13:00:00 2024-12-03 13:15:00   \n",
       "5         Spaghetti          Dinner 2024-12-03 18:30:00 2024-12-03 19:00:00   \n",
       "6   Grilled Chicken          Dinner 2024-12-04 18:00:00 2024-12-04 18:45:00   \n",
       "7     Veggie Burger           Lunch 2024-12-04 13:30:00 2024-12-04 13:50:00   \n",
       "8   Grilled Chicken          Dinner 2024-12-05 19:00:00 2024-12-05 19:40:00   \n",
       "9           Oatmeal       Breakfast 2024-12-05 07:00:00 2024-12-05 07:10:00   \n",
       "10         Pancakes       Breakfast 2024-12-06 08:00:00 2024-12-06 08:30:00   \n",
       "11        Spaghetti          Dinner 2024-12-06 19:00:00 2024-12-06 19:40:00   \n",
       "12     Caesar Salad           Lunch 2024-12-07 12:30:00 2024-12-07 13:00:00   \n",
       "13  Grilled Chicken          Dinner 2024-12-07 18:00:00 2024-12-07 18:45:00   \n",
       "14        Spaghetti          Dinner 2024-12-08 19:30:00 2024-12-08 20:10:00   \n",
       "15    Veggie Burger           Lunch 2024-12-08 13:30:00 2024-12-08 13:50:00   \n",
       "\n",
       "    Duration (mins)  Session Rating  \n",
       "0                30             4.5  \n",
       "1                20             4.0  \n",
       "2                40             4.8  \n",
       "3                30             4.2  \n",
       "4                15             4.7  \n",
       "5                30             4.3  \n",
       "6                45             4.6  \n",
       "7                20             4.4  \n",
       "8                40             4.9  \n",
       "9                10             4.1  \n",
       "10               30             4.6  \n",
       "11               40             4.7  \n",
       "12               30             4.4  \n",
       "13               45             4.8  \n",
       "14               40             5.0  \n",
       "15               20             4.3  "
      ]
     },
     "execution_count": 383,
     "metadata": {},
     "output_type": "execute_result"
    }
   ],
   "source": [
    "## merge the two table\n",
    "import pandas as pd\n",
    "import  numpy as np\n",
    "df=pd.merge(order_details,cooking_session,on=\"Session ID\",how=\"outer\",suffixes=(\"_session\",\"_order\"))\n",
    "df"
   ]
  },
  {
   "cell_type": "code",
   "execution_count": 384,
   "id": "3e96a033-36b6-4c26-b8b0-2054cd0c0642",
   "metadata": {},
   "outputs": [],
   "source": [
    "## combine and prioritize the version of user id,dish name ,meal type\n",
    "df[\"User ID\"]=df[\"User ID_session\"].combine_first(df[\"User ID_order\"])"
   ]
  },
  {
   "cell_type": "code",
   "execution_count": 385,
   "id": "8ae1d15e-3546-47ff-8220-b284b0b3bfb4",
   "metadata": {},
   "outputs": [],
   "source": [
    "df[\"Dish Name\"]=df[\"Dish Name_session\"].combine_first(df[\"Dish Name_order\"])\n",
    "df[\"Meal Type\"]=df[\"Meal Type_session\"].combine_first(df[\"Meal Type_order\"])"
   ]
  },
  {
   "cell_type": "code",
   "execution_count": 386,
   "id": "ef44a23f-610b-416d-a72c-e340456207fb",
   "metadata": {},
   "outputs": [],
   "source": [
    "df=df.drop(columns=[\"User ID_session\",\"User ID_order\",\"Dish Name_session\",\"Dish Name_order\",\"Meal Type_session\",\"Meal Type_order\"])"
   ]
  },
  {
   "cell_type": "code",
   "execution_count": 388,
   "id": "7be14c4b-214f-4b88-b851-7c89c1d54c18",
   "metadata": {},
   "outputs": [
    {
     "data": {
      "text/html": [
       "<div>\n",
       "<style scoped>\n",
       "    .dataframe tbody tr th:only-of-type {\n",
       "        vertical-align: middle;\n",
       "    }\n",
       "\n",
       "    .dataframe tbody tr th {\n",
       "        vertical-align: top;\n",
       "    }\n",
       "\n",
       "    .dataframe thead th {\n",
       "        text-align: right;\n",
       "    }\n",
       "</style>\n",
       "<table border=\"1\" class=\"dataframe\">\n",
       "  <thead>\n",
       "    <tr style=\"text-align: right;\">\n",
       "      <th></th>\n",
       "      <th>Order ID</th>\n",
       "      <th>Order Date</th>\n",
       "      <th>Order Status</th>\n",
       "      <th>Amount (USD)</th>\n",
       "      <th>Time of Day</th>\n",
       "      <th>Rating</th>\n",
       "      <th>Session ID</th>\n",
       "      <th>Session Start</th>\n",
       "      <th>Session End</th>\n",
       "      <th>Duration (mins)</th>\n",
       "      <th>Session Rating</th>\n",
       "      <th>User ID</th>\n",
       "      <th>Dish Name</th>\n",
       "      <th>Meal Type</th>\n",
       "    </tr>\n",
       "  </thead>\n",
       "  <tbody>\n",
       "    <tr>\n",
       "      <th>0</th>\n",
       "      <td>1001</td>\n",
       "      <td>2024-12-01</td>\n",
       "      <td>Completed</td>\n",
       "      <td>15.0</td>\n",
       "      <td>Night</td>\n",
       "      <td>5.0</td>\n",
       "      <td>S001</td>\n",
       "      <td>2024-12-01 19:00:00</td>\n",
       "      <td>2024-12-01 19:30:00</td>\n",
       "      <td>30</td>\n",
       "      <td>4.5</td>\n",
       "      <td>U001</td>\n",
       "      <td>Spaghetti</td>\n",
       "      <td>Dinner</td>\n",
       "    </tr>\n",
       "    <tr>\n",
       "      <th>1</th>\n",
       "      <td>1002</td>\n",
       "      <td>2024-12-01</td>\n",
       "      <td>Completed</td>\n",
       "      <td>10.0</td>\n",
       "      <td>Day</td>\n",
       "      <td>4.0</td>\n",
       "      <td>S002</td>\n",
       "      <td>2024-12-01 12:00:00</td>\n",
       "      <td>2024-12-01 12:20:00</td>\n",
       "      <td>20</td>\n",
       "      <td>4.0</td>\n",
       "      <td>U002</td>\n",
       "      <td>Caesar Salad</td>\n",
       "      <td>Lunch</td>\n",
       "    </tr>\n",
       "    <tr>\n",
       "      <th>2</th>\n",
       "      <td>1003</td>\n",
       "      <td>2024-12-02</td>\n",
       "      <td>Canceled</td>\n",
       "      <td>12.5</td>\n",
       "      <td>Night</td>\n",
       "      <td>4.0</td>\n",
       "      <td>S003</td>\n",
       "      <td>2024-12-02 19:30:00</td>\n",
       "      <td>2024-12-02 20:10:00</td>\n",
       "      <td>40</td>\n",
       "      <td>4.8</td>\n",
       "      <td>U003</td>\n",
       "      <td>Grilled Chicken</td>\n",
       "      <td>Dinner</td>\n",
       "    </tr>\n",
       "    <tr>\n",
       "      <th>3</th>\n",
       "      <td>1004</td>\n",
       "      <td>2024-12-02</td>\n",
       "      <td>Completed</td>\n",
       "      <td>8.0</td>\n",
       "      <td>Morning</td>\n",
       "      <td>4.0</td>\n",
       "      <td>S004</td>\n",
       "      <td>2024-12-02 07:30:00</td>\n",
       "      <td>2024-12-02 08:00:00</td>\n",
       "      <td>30</td>\n",
       "      <td>4.2</td>\n",
       "      <td>U001</td>\n",
       "      <td>Pancakes</td>\n",
       "      <td>Breakfast</td>\n",
       "    </tr>\n",
       "    <tr>\n",
       "      <th>4</th>\n",
       "      <td>1005</td>\n",
       "      <td>2024-12-03</td>\n",
       "      <td>Completed</td>\n",
       "      <td>9.0</td>\n",
       "      <td>Day</td>\n",
       "      <td>4.0</td>\n",
       "      <td>S005</td>\n",
       "      <td>2024-12-03 13:00:00</td>\n",
       "      <td>2024-12-03 13:15:00</td>\n",
       "      <td>15</td>\n",
       "      <td>4.7</td>\n",
       "      <td>U004</td>\n",
       "      <td>Caesar Salad</td>\n",
       "      <td>Lunch</td>\n",
       "    </tr>\n",
       "  </tbody>\n",
       "</table>\n",
       "</div>"
      ],
      "text/plain": [
       "   Order ID Order Date Order Status  Amount (USD) Time of Day  Rating  \\\n",
       "0      1001 2024-12-01    Completed          15.0       Night     5.0   \n",
       "1      1002 2024-12-01    Completed          10.0         Day     4.0   \n",
       "2      1003 2024-12-02     Canceled          12.5       Night     4.0   \n",
       "3      1004 2024-12-02    Completed           8.0     Morning     4.0   \n",
       "4      1005 2024-12-03    Completed           9.0         Day     4.0   \n",
       "\n",
       "  Session ID       Session Start         Session End  Duration (mins)  \\\n",
       "0       S001 2024-12-01 19:00:00 2024-12-01 19:30:00               30   \n",
       "1       S002 2024-12-01 12:00:00 2024-12-01 12:20:00               20   \n",
       "2       S003 2024-12-02 19:30:00 2024-12-02 20:10:00               40   \n",
       "3       S004 2024-12-02 07:30:00 2024-12-02 08:00:00               30   \n",
       "4       S005 2024-12-03 13:00:00 2024-12-03 13:15:00               15   \n",
       "\n",
       "   Session Rating User ID        Dish Name  Meal Type  \n",
       "0             4.5    U001        Spaghetti     Dinner  \n",
       "1             4.0    U002     Caesar Salad      Lunch  \n",
       "2             4.8    U003  Grilled Chicken     Dinner  \n",
       "3             4.2    U001         Pancakes  Breakfast  \n",
       "4             4.7    U004     Caesar Salad      Lunch  "
      ]
     },
     "execution_count": 388,
     "metadata": {},
     "output_type": "execute_result"
    }
   ],
   "source": [
    "df.head()"
   ]
  },
  {
   "cell_type": "code",
   "execution_count": 187,
   "id": "8bc3dc6d-a046-4a6f-ba6b-480406dbb9b5",
   "metadata": {},
   "outputs": [
    {
     "data": {
      "text/html": [
       "<div>\n",
       "<style scoped>\n",
       "    .dataframe tbody tr th:only-of-type {\n",
       "        vertical-align: middle;\n",
       "    }\n",
       "\n",
       "    .dataframe tbody tr th {\n",
       "        vertical-align: top;\n",
       "    }\n",
       "\n",
       "    .dataframe thead th {\n",
       "        text-align: right;\n",
       "    }\n",
       "</style>\n",
       "<table border=\"1\" class=\"dataframe\">\n",
       "  <thead>\n",
       "    <tr style=\"text-align: right;\">\n",
       "      <th></th>\n",
       "      <th>Order ID</th>\n",
       "      <th>User ID_session</th>\n",
       "      <th>Order Date</th>\n",
       "      <th>Meal Type_session</th>\n",
       "      <th>Dish Name_session</th>\n",
       "      <th>Order Status</th>\n",
       "      <th>Amount (USD)</th>\n",
       "      <th>Time of Day</th>\n",
       "      <th>Rating</th>\n",
       "      <th>Session ID</th>\n",
       "      <th>User ID_order</th>\n",
       "      <th>Dish Name_order</th>\n",
       "      <th>Meal Type_order</th>\n",
       "      <th>Session Start</th>\n",
       "      <th>Session End</th>\n",
       "      <th>Duration (mins)</th>\n",
       "      <th>Session Rating</th>\n",
       "    </tr>\n",
       "  </thead>\n",
       "  <tbody>\n",
       "    <tr>\n",
       "      <th>0</th>\n",
       "      <td>1001</td>\n",
       "      <td>U001</td>\n",
       "      <td>2024-12-01</td>\n",
       "      <td>Dinner</td>\n",
       "      <td>Spaghetti</td>\n",
       "      <td>Completed</td>\n",
       "      <td>15.0</td>\n",
       "      <td>Night</td>\n",
       "      <td>5.0</td>\n",
       "      <td>S001</td>\n",
       "      <td>U001</td>\n",
       "      <td>Spaghetti</td>\n",
       "      <td>Dinner</td>\n",
       "      <td>2024-12-01 19:00:00</td>\n",
       "      <td>2024-12-01 19:30:00</td>\n",
       "      <td>30</td>\n",
       "      <td>4.5</td>\n",
       "    </tr>\n",
       "    <tr>\n",
       "      <th>1</th>\n",
       "      <td>1002</td>\n",
       "      <td>U002</td>\n",
       "      <td>2024-12-01</td>\n",
       "      <td>Lunch</td>\n",
       "      <td>Caesar Salad</td>\n",
       "      <td>Completed</td>\n",
       "      <td>10.0</td>\n",
       "      <td>Day</td>\n",
       "      <td>4.0</td>\n",
       "      <td>S002</td>\n",
       "      <td>U002</td>\n",
       "      <td>Caesar Salad</td>\n",
       "      <td>Lunch</td>\n",
       "      <td>2024-12-01 12:00:00</td>\n",
       "      <td>2024-12-01 12:20:00</td>\n",
       "      <td>20</td>\n",
       "      <td>4.0</td>\n",
       "    </tr>\n",
       "    <tr>\n",
       "      <th>2</th>\n",
       "      <td>1003</td>\n",
       "      <td>U003</td>\n",
       "      <td>2024-12-02</td>\n",
       "      <td>Dinner</td>\n",
       "      <td>Grilled Chicken</td>\n",
       "      <td>Canceled</td>\n",
       "      <td>12.5</td>\n",
       "      <td>Night</td>\n",
       "      <td>4.0</td>\n",
       "      <td>S003</td>\n",
       "      <td>U003</td>\n",
       "      <td>Grilled Chicken</td>\n",
       "      <td>Dinner</td>\n",
       "      <td>2024-12-02 19:30:00</td>\n",
       "      <td>2024-12-02 20:10:00</td>\n",
       "      <td>40</td>\n",
       "      <td>4.8</td>\n",
       "    </tr>\n",
       "    <tr>\n",
       "      <th>3</th>\n",
       "      <td>1004</td>\n",
       "      <td>U001</td>\n",
       "      <td>2024-12-02</td>\n",
       "      <td>Breakfast</td>\n",
       "      <td>Pancakes</td>\n",
       "      <td>Completed</td>\n",
       "      <td>8.0</td>\n",
       "      <td>Morning</td>\n",
       "      <td>4.0</td>\n",
       "      <td>S004</td>\n",
       "      <td>U001</td>\n",
       "      <td>Pancakes</td>\n",
       "      <td>Breakfast</td>\n",
       "      <td>2024-12-02 07:30:00</td>\n",
       "      <td>2024-12-02 08:00:00</td>\n",
       "      <td>30</td>\n",
       "      <td>4.2</td>\n",
       "    </tr>\n",
       "    <tr>\n",
       "      <th>4</th>\n",
       "      <td>1005</td>\n",
       "      <td>U004</td>\n",
       "      <td>2024-12-03</td>\n",
       "      <td>Lunch</td>\n",
       "      <td>Caesar Salad</td>\n",
       "      <td>Completed</td>\n",
       "      <td>9.0</td>\n",
       "      <td>Day</td>\n",
       "      <td>4.0</td>\n",
       "      <td>S005</td>\n",
       "      <td>U004</td>\n",
       "      <td>Caesar Salad</td>\n",
       "      <td>Lunch</td>\n",
       "      <td>2024-12-03 13:00:00</td>\n",
       "      <td>2024-12-03 13:15:00</td>\n",
       "      <td>15</td>\n",
       "      <td>4.7</td>\n",
       "    </tr>\n",
       "  </tbody>\n",
       "</table>\n",
       "</div>"
      ],
      "text/plain": [
       "   Order ID User ID_session Order Date Meal Type_session Dish Name_session  \\\n",
       "0      1001            U001 2024-12-01            Dinner         Spaghetti   \n",
       "1      1002            U002 2024-12-01             Lunch      Caesar Salad   \n",
       "2      1003            U003 2024-12-02            Dinner   Grilled Chicken   \n",
       "3      1004            U001 2024-12-02         Breakfast          Pancakes   \n",
       "4      1005            U004 2024-12-03             Lunch      Caesar Salad   \n",
       "\n",
       "  Order Status  Amount (USD) Time of Day  Rating Session ID User ID_order  \\\n",
       "0    Completed          15.0       Night     5.0       S001          U001   \n",
       "1    Completed          10.0         Day     4.0       S002          U002   \n",
       "2     Canceled          12.5       Night     4.0       S003          U003   \n",
       "3    Completed           8.0     Morning     4.0       S004          U001   \n",
       "4    Completed           9.0         Day     4.0       S005          U004   \n",
       "\n",
       "   Dish Name_order Meal Type_order       Session Start         Session End  \\\n",
       "0        Spaghetti          Dinner 2024-12-01 19:00:00 2024-12-01 19:30:00   \n",
       "1     Caesar Salad           Lunch 2024-12-01 12:00:00 2024-12-01 12:20:00   \n",
       "2  Grilled Chicken          Dinner 2024-12-02 19:30:00 2024-12-02 20:10:00   \n",
       "3         Pancakes       Breakfast 2024-12-02 07:30:00 2024-12-02 08:00:00   \n",
       "4     Caesar Salad           Lunch 2024-12-03 13:00:00 2024-12-03 13:15:00   \n",
       "\n",
       "   Duration (mins)  Session Rating  \n",
       "0               30             4.5  \n",
       "1               20             4.0  \n",
       "2               40             4.8  \n",
       "3               30             4.2  \n",
       "4               15             4.7  "
      ]
     },
     "execution_count": 187,
     "metadata": {},
     "output_type": "execute_result"
    }
   ],
   "source": [
    "## identify the most popular dishes\n",
    "df.head()"
   ]
  },
  {
   "cell_type": "code",
   "execution_count": 390,
   "id": "edec369e-c8db-4051-bb12-3272fbe08ed3",
   "metadata": {},
   "outputs": [],
   "source": [
    "user_det=user_details[[\"User ID\",\"Total Orders\"]]"
   ]
  },
  {
   "cell_type": "code",
   "execution_count": 391,
   "id": "fd35dfa5-e130-4f91-9f16-375e6edf670a",
   "metadata": {},
   "outputs": [],
   "source": [
    "total_merge=pd.merge(df,user_det,on=\"User ID\")"
   ]
  },
  {
   "cell_type": "code",
   "execution_count": 392,
   "id": "40e16fcb-06ac-4549-9b8c-fb8883ba7175",
   "metadata": {},
   "outputs": [],
   "source": [
    "total_merge[\"revenue\"]=total_merge[\"Amount (USD)\"]*total_merge[\"Total Orders\"]"
   ]
  },
  {
   "cell_type": "code",
   "execution_count": 397,
   "id": "90b92973-2264-4228-a536-e834aab131ad",
   "metadata": {},
   "outputs": [
    {
     "data": {
      "text/html": [
       "<div>\n",
       "<style scoped>\n",
       "    .dataframe tbody tr th:only-of-type {\n",
       "        vertical-align: middle;\n",
       "    }\n",
       "\n",
       "    .dataframe tbody tr th {\n",
       "        vertical-align: top;\n",
       "    }\n",
       "\n",
       "    .dataframe thead th {\n",
       "        text-align: right;\n",
       "    }\n",
       "</style>\n",
       "<table border=\"1\" class=\"dataframe\">\n",
       "  <thead>\n",
       "    <tr style=\"text-align: right;\">\n",
       "      <th></th>\n",
       "      <th>Dish Name</th>\n",
       "      <th>no of times dish ordered</th>\n",
       "    </tr>\n",
       "  </thead>\n",
       "  <tbody>\n",
       "    <tr>\n",
       "      <th>0</th>\n",
       "      <td>Caesar Salad</td>\n",
       "      <td>27</td>\n",
       "    </tr>\n",
       "    <tr>\n",
       "      <th>1</th>\n",
       "      <td>Grilled Chicken</td>\n",
       "      <td>43</td>\n",
       "    </tr>\n",
       "    <tr>\n",
       "      <th>2</th>\n",
       "      <td>Oatmeal</td>\n",
       "      <td>8</td>\n",
       "    </tr>\n",
       "    <tr>\n",
       "      <th>3</th>\n",
       "      <td>Pancakes</td>\n",
       "      <td>27</td>\n",
       "    </tr>\n",
       "    <tr>\n",
       "      <th>4</th>\n",
       "      <td>Spaghetti</td>\n",
       "      <td>44</td>\n",
       "    </tr>\n",
       "    <tr>\n",
       "      <th>5</th>\n",
       "      <td>Veggie Burger</td>\n",
       "      <td>20</td>\n",
       "    </tr>\n",
       "  </tbody>\n",
       "</table>\n",
       "</div>"
      ],
      "text/plain": [
       "         Dish Name  no of times dish ordered\n",
       "0     Caesar Salad                        27\n",
       "1  Grilled Chicken                        43\n",
       "2          Oatmeal                         8\n",
       "3         Pancakes                        27\n",
       "4        Spaghetti                        44\n",
       "5    Veggie Burger                        20"
      ]
     },
     "execution_count": 397,
     "metadata": {},
     "output_type": "execute_result"
    }
   ],
   "source": [
    "## which dish ordered maximum no of times\n",
    "total_merge.groupby(\"Dish Name\")[\"Total Orders\"].sum().reset_index(name=\"no of times dish ordered\")"
   ]
  },
  {
   "cell_type": "code",
   "execution_count": 403,
   "id": "9d8d5491-aa82-483a-ab97-93a2bdfc7815",
   "metadata": {},
   "outputs": [
    {
     "data": {
      "text/html": [
       "<div>\n",
       "<style scoped>\n",
       "    .dataframe tbody tr th:only-of-type {\n",
       "        vertical-align: middle;\n",
       "    }\n",
       "\n",
       "    .dataframe tbody tr th {\n",
       "        vertical-align: top;\n",
       "    }\n",
       "\n",
       "    .dataframe thead th {\n",
       "        text-align: right;\n",
       "    }\n",
       "</style>\n",
       "<table border=\"1\" class=\"dataframe\">\n",
       "  <thead>\n",
       "    <tr style=\"text-align: right;\">\n",
       "      <th></th>\n",
       "      <th>Order ID</th>\n",
       "      <th>Order Date</th>\n",
       "      <th>Order Status</th>\n",
       "      <th>Amount (USD)</th>\n",
       "      <th>Time of Day</th>\n",
       "      <th>Rating</th>\n",
       "      <th>Session ID</th>\n",
       "      <th>Session Start</th>\n",
       "      <th>Session End</th>\n",
       "      <th>Duration (mins)</th>\n",
       "      <th>Session Rating</th>\n",
       "      <th>User ID</th>\n",
       "      <th>Dish Name</th>\n",
       "      <th>Meal Type</th>\n",
       "      <th>Total Orders</th>\n",
       "      <th>revenue</th>\n",
       "    </tr>\n",
       "  </thead>\n",
       "  <tbody>\n",
       "    <tr>\n",
       "      <th>0</th>\n",
       "      <td>1001</td>\n",
       "      <td>2024-12-01</td>\n",
       "      <td>Completed</td>\n",
       "      <td>15.0</td>\n",
       "      <td>Night</td>\n",
       "      <td>5.0</td>\n",
       "      <td>S001</td>\n",
       "      <td>2024-12-01 19:00:00</td>\n",
       "      <td>2024-12-01 19:30:00</td>\n",
       "      <td>30</td>\n",
       "      <td>4.5</td>\n",
       "      <td>U001</td>\n",
       "      <td>Spaghetti</td>\n",
       "      <td>Dinner</td>\n",
       "      <td>12</td>\n",
       "      <td>180.0</td>\n",
       "    </tr>\n",
       "    <tr>\n",
       "      <th>1</th>\n",
       "      <td>1002</td>\n",
       "      <td>2024-12-01</td>\n",
       "      <td>Completed</td>\n",
       "      <td>10.0</td>\n",
       "      <td>Day</td>\n",
       "      <td>4.0</td>\n",
       "      <td>S002</td>\n",
       "      <td>2024-12-01 12:00:00</td>\n",
       "      <td>2024-12-01 12:20:00</td>\n",
       "      <td>20</td>\n",
       "      <td>4.0</td>\n",
       "      <td>U002</td>\n",
       "      <td>Caesar Salad</td>\n",
       "      <td>Lunch</td>\n",
       "      <td>8</td>\n",
       "      <td>80.0</td>\n",
       "    </tr>\n",
       "  </tbody>\n",
       "</table>\n",
       "</div>"
      ],
      "text/plain": [
       "   Order ID Order Date Order Status  Amount (USD) Time of Day  Rating  \\\n",
       "0      1001 2024-12-01    Completed          15.0       Night     5.0   \n",
       "1      1002 2024-12-01    Completed          10.0         Day     4.0   \n",
       "\n",
       "  Session ID       Session Start         Session End  Duration (mins)  \\\n",
       "0       S001 2024-12-01 19:00:00 2024-12-01 19:30:00               30   \n",
       "1       S002 2024-12-01 12:00:00 2024-12-01 12:20:00               20   \n",
       "\n",
       "   Session Rating User ID     Dish Name Meal Type  Total Orders  revenue  \n",
       "0             4.5    U001     Spaghetti    Dinner            12    180.0  \n",
       "1             4.0    U002  Caesar Salad     Lunch             8     80.0  "
      ]
     },
     "execution_count": 403,
     "metadata": {},
     "output_type": "execute_result"
    }
   ],
   "source": [
    "total_merge.head(2)"
   ]
  },
  {
   "cell_type": "code",
   "execution_count": 402,
   "id": "deeb80e9-c11c-4c9c-bdff-7d074619fa13",
   "metadata": {},
   "outputs": [
    {
     "data": {
      "text/html": [
       "<div>\n",
       "<style scoped>\n",
       "    .dataframe tbody tr th:only-of-type {\n",
       "        vertical-align: middle;\n",
       "    }\n",
       "\n",
       "    .dataframe tbody tr th {\n",
       "        vertical-align: top;\n",
       "    }\n",
       "\n",
       "    .dataframe thead th {\n",
       "        text-align: right;\n",
       "    }\n",
       "</style>\n",
       "<table border=\"1\" class=\"dataframe\">\n",
       "  <thead>\n",
       "    <tr style=\"text-align: right;\">\n",
       "      <th></th>\n",
       "      <th>Dish Name</th>\n",
       "      <th>revenue</th>\n",
       "    </tr>\n",
       "  </thead>\n",
       "  <tbody>\n",
       "    <tr>\n",
       "      <th>0</th>\n",
       "      <td>Spaghetti</td>\n",
       "      <td>613.0</td>\n",
       "    </tr>\n",
       "    <tr>\n",
       "      <th>1</th>\n",
       "      <td>Grilled Chicken</td>\n",
       "      <td>356.5</td>\n",
       "    </tr>\n",
       "    <tr>\n",
       "      <th>2</th>\n",
       "      <td>Caesar Salad</td>\n",
       "      <td>251.0</td>\n",
       "    </tr>\n",
       "    <tr>\n",
       "      <th>3</th>\n",
       "      <td>Pancakes</td>\n",
       "      <td>223.5</td>\n",
       "    </tr>\n",
       "    <tr>\n",
       "      <th>4</th>\n",
       "      <td>Oatmeal</td>\n",
       "      <td>56.0</td>\n",
       "    </tr>\n",
       "    <tr>\n",
       "      <th>5</th>\n",
       "      <td>Veggie Burger</td>\n",
       "      <td>55.0</td>\n",
       "    </tr>\n",
       "  </tbody>\n",
       "</table>\n",
       "</div>"
      ],
      "text/plain": [
       "         Dish Name  revenue\n",
       "0        Spaghetti    613.0\n",
       "1  Grilled Chicken    356.5\n",
       "2     Caesar Salad    251.0\n",
       "3         Pancakes    223.5\n",
       "4          Oatmeal     56.0\n",
       "5    Veggie Burger     55.0"
      ]
     },
     "execution_count": 402,
     "metadata": {},
     "output_type": "execute_result"
    }
   ],
   "source": [
    "### how much revenue we get through diffrent dish-- only when the order status is completed\n",
    "\n",
    "comp_orders=total_merge[total_merge[\"Order Status\"]==\"Completed\"]\n",
    "comp_orders.groupby(\"Dish Name\")[\"revenue\"].sum().sort_values(ascending=False).reset_index()"
   ]
  },
  {
   "cell_type": "code",
   "execution_count": 221,
   "id": "fb0ebc6c-818f-4c5c-9945-8d583bc3dfd6",
   "metadata": {},
   "outputs": [],
   "source": [
    "## identify the dishes that are cooked in the cooking session but never order by users"
   ]
  },
  {
   "cell_type": "code",
   "execution_count": 404,
   "id": "2203a4fd-ab8e-40db-abf6-159e095666dc",
   "metadata": {},
   "outputs": [],
   "source": [
    "dish_from_session=cooking_session[\"Dish Name\"].unique()\n",
    "dish_from_orders=order_details[\"Dish Name\"].unique()"
   ]
  },
  {
   "cell_type": "code",
   "execution_count": 405,
   "id": "13b4ca56-eb35-47e0-90d4-e22e723f8756",
   "metadata": {},
   "outputs": [
    {
     "name": "stdout",
     "output_type": "stream",
     "text": [
      "session only dishes set()\n"
     ]
    }
   ],
   "source": [
    "### identify the session only dishes\n",
    "session_only_dishes=set(dish_from_session)-set(dish_from_orders)\n",
    "print(\"session only dishes\",session_only_dishes)"
   ]
  },
  {
   "cell_type": "code",
   "execution_count": 225,
   "id": "eb244367-36ff-4f0a-ab3c-f83c601586ad",
   "metadata": {},
   "outputs": [],
   "source": [
    "## empty set mean all the dishes that  are basically used in the session time ,are ordered by someone so---"
   ]
  },
  {
   "cell_type": "code",
   "execution_count": 408,
   "id": "c07ddab9-119d-4ffd-ba8a-f87cc6421c78",
   "metadata": {},
   "outputs": [],
   "source": [
    "## certain dishes are more popular in certain time\n",
    "more_p_dish_time=total_merge.groupby([\"Meal Type\",\"Dish Name\"]).size().reset_index()"
   ]
  },
  {
   "cell_type": "code",
   "execution_count": 409,
   "id": "ef49c1c1-835c-4307-89a5-d57cb919de6e",
   "metadata": {},
   "outputs": [
    {
     "data": {
      "text/html": [
       "<div>\n",
       "<style scoped>\n",
       "    .dataframe tbody tr th:only-of-type {\n",
       "        vertical-align: middle;\n",
       "    }\n",
       "\n",
       "    .dataframe tbody tr th {\n",
       "        vertical-align: top;\n",
       "    }\n",
       "\n",
       "    .dataframe thead th {\n",
       "        text-align: right;\n",
       "    }\n",
       "</style>\n",
       "<table border=\"1\" class=\"dataframe\">\n",
       "  <thead>\n",
       "    <tr style=\"text-align: right;\">\n",
       "      <th></th>\n",
       "      <th>Meal Type</th>\n",
       "      <th>Dish Name</th>\n",
       "      <th>no of order time</th>\n",
       "    </tr>\n",
       "  </thead>\n",
       "  <tbody>\n",
       "    <tr>\n",
       "      <th>0</th>\n",
       "      <td>Breakfast</td>\n",
       "      <td>Oatmeal</td>\n",
       "      <td>1</td>\n",
       "    </tr>\n",
       "    <tr>\n",
       "      <th>1</th>\n",
       "      <td>Breakfast</td>\n",
       "      <td>Pancakes</td>\n",
       "      <td>2</td>\n",
       "    </tr>\n",
       "    <tr>\n",
       "      <th>2</th>\n",
       "      <td>Dinner</td>\n",
       "      <td>Grilled Chicken</td>\n",
       "      <td>4</td>\n",
       "    </tr>\n",
       "    <tr>\n",
       "      <th>3</th>\n",
       "      <td>Dinner</td>\n",
       "      <td>Spaghetti</td>\n",
       "      <td>4</td>\n",
       "    </tr>\n",
       "    <tr>\n",
       "      <th>4</th>\n",
       "      <td>Lunch</td>\n",
       "      <td>Caesar Salad</td>\n",
       "      <td>3</td>\n",
       "    </tr>\n",
       "    <tr>\n",
       "      <th>5</th>\n",
       "      <td>Lunch</td>\n",
       "      <td>Veggie Burger</td>\n",
       "      <td>2</td>\n",
       "    </tr>\n",
       "  </tbody>\n",
       "</table>\n",
       "</div>"
      ],
      "text/plain": [
       "   Meal Type        Dish Name  no of order time\n",
       "0  Breakfast          Oatmeal                 1\n",
       "1  Breakfast         Pancakes                 2\n",
       "2     Dinner  Grilled Chicken                 4\n",
       "3     Dinner        Spaghetti                 4\n",
       "4      Lunch     Caesar Salad                 3\n",
       "5      Lunch    Veggie Burger                 2"
      ]
     },
     "execution_count": 409,
     "metadata": {},
     "output_type": "execute_result"
    }
   ],
   "source": [
    "more_p_dish_time.rename(columns={0:\"no of order time\"},inplace=True)\n",
    "more_p_dish_time"
   ]
  },
  {
   "cell_type": "code",
   "execution_count": 411,
   "id": "5a5a757b-9023-466f-aa58-3646b1cf04e0",
   "metadata": {},
   "outputs": [
    {
     "data": {
      "text/html": [
       "<div>\n",
       "<style scoped>\n",
       "    .dataframe tbody tr th:only-of-type {\n",
       "        vertical-align: middle;\n",
       "    }\n",
       "\n",
       "    .dataframe tbody tr th {\n",
       "        vertical-align: top;\n",
       "    }\n",
       "\n",
       "    .dataframe thead th {\n",
       "        text-align: right;\n",
       "    }\n",
       "</style>\n",
       "<table border=\"1\" class=\"dataframe\">\n",
       "  <thead>\n",
       "    <tr style=\"text-align: right;\">\n",
       "      <th></th>\n",
       "      <th>Meal Type</th>\n",
       "      <th>Dish Name</th>\n",
       "      <th>no of order time</th>\n",
       "      <th>rank</th>\n",
       "    </tr>\n",
       "  </thead>\n",
       "  <tbody>\n",
       "    <tr>\n",
       "      <th>0</th>\n",
       "      <td>Breakfast</td>\n",
       "      <td>Oatmeal</td>\n",
       "      <td>1</td>\n",
       "      <td>2.0</td>\n",
       "    </tr>\n",
       "    <tr>\n",
       "      <th>1</th>\n",
       "      <td>Breakfast</td>\n",
       "      <td>Pancakes</td>\n",
       "      <td>2</td>\n",
       "      <td>1.0</td>\n",
       "    </tr>\n",
       "    <tr>\n",
       "      <th>2</th>\n",
       "      <td>Dinner</td>\n",
       "      <td>Grilled Chicken</td>\n",
       "      <td>4</td>\n",
       "      <td>1.0</td>\n",
       "    </tr>\n",
       "    <tr>\n",
       "      <th>3</th>\n",
       "      <td>Dinner</td>\n",
       "      <td>Spaghetti</td>\n",
       "      <td>4</td>\n",
       "      <td>1.0</td>\n",
       "    </tr>\n",
       "    <tr>\n",
       "      <th>4</th>\n",
       "      <td>Lunch</td>\n",
       "      <td>Caesar Salad</td>\n",
       "      <td>3</td>\n",
       "      <td>1.0</td>\n",
       "    </tr>\n",
       "    <tr>\n",
       "      <th>5</th>\n",
       "      <td>Lunch</td>\n",
       "      <td>Veggie Burger</td>\n",
       "      <td>2</td>\n",
       "      <td>2.0</td>\n",
       "    </tr>\n",
       "  </tbody>\n",
       "</table>\n",
       "</div>"
      ],
      "text/plain": [
       "   Meal Type        Dish Name  no of order time  rank\n",
       "0  Breakfast          Oatmeal                 1   2.0\n",
       "1  Breakfast         Pancakes                 2   1.0\n",
       "2     Dinner  Grilled Chicken                 4   1.0\n",
       "3     Dinner        Spaghetti                 4   1.0\n",
       "4      Lunch     Caesar Salad                 3   1.0\n",
       "5      Lunch    Veggie Burger                 2   2.0"
      ]
     },
     "execution_count": 411,
     "metadata": {},
     "output_type": "execute_result"
    }
   ],
   "source": [
    "more_p_dish_time[\"rank\"]=more_p_dish_time.groupby(\"Meal Type\")[\"no of order time\"].rank(method=\"dense\",ascending=False)\n",
    "more_p_dish_time"
   ]
  },
  {
   "cell_type": "code",
   "execution_count": 413,
   "id": "cfb30631-e270-47af-933d-1ae2d2079b73",
   "metadata": {},
   "outputs": [
    {
     "data": {
      "text/html": [
       "<div>\n",
       "<style scoped>\n",
       "    .dataframe tbody tr th:only-of-type {\n",
       "        vertical-align: middle;\n",
       "    }\n",
       "\n",
       "    .dataframe tbody tr th {\n",
       "        vertical-align: top;\n",
       "    }\n",
       "\n",
       "    .dataframe thead th {\n",
       "        text-align: right;\n",
       "    }\n",
       "</style>\n",
       "<table border=\"1\" class=\"dataframe\">\n",
       "  <thead>\n",
       "    <tr style=\"text-align: right;\">\n",
       "      <th></th>\n",
       "      <th>Meal Type</th>\n",
       "      <th>Dish Name</th>\n",
       "      <th>no of order time</th>\n",
       "    </tr>\n",
       "  </thead>\n",
       "  <tbody>\n",
       "    <tr>\n",
       "      <th>1</th>\n",
       "      <td>Breakfast</td>\n",
       "      <td>Pancakes</td>\n",
       "      <td>2</td>\n",
       "    </tr>\n",
       "    <tr>\n",
       "      <th>2</th>\n",
       "      <td>Dinner</td>\n",
       "      <td>Grilled Chicken</td>\n",
       "      <td>4</td>\n",
       "    </tr>\n",
       "    <tr>\n",
       "      <th>3</th>\n",
       "      <td>Dinner</td>\n",
       "      <td>Spaghetti</td>\n",
       "      <td>4</td>\n",
       "    </tr>\n",
       "    <tr>\n",
       "      <th>4</th>\n",
       "      <td>Lunch</td>\n",
       "      <td>Caesar Salad</td>\n",
       "      <td>3</td>\n",
       "    </tr>\n",
       "  </tbody>\n",
       "</table>\n",
       "</div>"
      ],
      "text/plain": [
       "   Meal Type        Dish Name  no of order time\n",
       "1  Breakfast         Pancakes                 2\n",
       "2     Dinner  Grilled Chicken                 4\n",
       "3     Dinner        Spaghetti                 4\n",
       "4      Lunch     Caesar Salad                 3"
      ]
     },
     "execution_count": 413,
     "metadata": {},
     "output_type": "execute_result"
    }
   ],
   "source": [
    "more_p_dish_time[more_p_dish_time[\"rank\"]==1][[\"Meal Type\",\"Dish Name\",\"no of order time\"]]\n",
    "## these are the dishes are more popular in the particular time"
   ]
  },
  {
   "cell_type": "code",
   "execution_count": 414,
   "id": "0b87dc97-b3a1-4821-99fe-5c819e989782",
   "metadata": {},
   "outputs": [
    {
     "data": {
      "text/plain": [
       "User ID  Dish Name      \n",
       "U001     Grilled Chicken    1\n",
       "         Pancakes           1\n",
       "         Spaghetti          1\n",
       "U002     Caesar Salad       1\n",
       "         Oatmeal            1\n",
       "         Spaghetti          1\n",
       "U003     Grilled Chicken    1\n",
       "         Pancakes           1\n",
       "         Veggie Burger      1\n",
       "U004     Caesar Salad       1\n",
       "         Spaghetti          1\n",
       "U005     Caesar Salad       1\n",
       "         Grilled Chicken    1\n",
       "U006     Grilled Chicken    1\n",
       "U007     Spaghetti          1\n",
       "U008     Veggie Burger      1\n",
       "dtype: int64"
      ]
     },
     "execution_count": 414,
     "metadata": {},
     "output_type": "execute_result"
    }
   ],
   "source": [
    "## ## user demographic ananlysis\n",
    "## who ordered what\n",
    "total_merge.groupby([\"User ID\",\"Dish Name\"]).size()"
   ]
  },
  {
   "cell_type": "code",
   "execution_count": 257,
   "id": "d87d8134-7969-4dc1-9b81-a9176256a740",
   "metadata": {},
   "outputs": [
    {
     "data": {
      "text/plain": [
       "Index(['Order ID', 'User ID', 'Order Date', 'Meal Type_x', 'Dish Name_x',\n",
       "       'Order Status', 'Amount (USD)', 'Time of Day', 'Rating', 'Session ID',\n",
       "       'Dish Name_y', 'Meal Type_y', 'Session Start', 'Session End',\n",
       "       'Duration (mins)', 'Session Rating'],\n",
       "      dtype='object')"
      ]
     },
     "execution_count": 257,
     "metadata": {},
     "output_type": "execute_result"
    }
   ],
   "source": [
    "merged_table.columns"
   ]
  },
  {
   "cell_type": "code",
   "execution_count": null,
   "id": "8dc52298-fc4f-4d4c-aaad-c139d9afc3e6",
   "metadata": {},
   "outputs": [],
   "source": [
    "## identify the ferquent customers"
   ]
  },
  {
   "cell_type": "code",
   "execution_count": 422,
   "id": "d096e6f6-2007-40bd-a355-04cefdffcd87",
   "metadata": {},
   "outputs": [],
   "source": [
    "\n",
    "user_order_ferquency=total_merge.groupby(\"User ID\")[\"Order ID\"].count().reset_index(name=\"order count\")"
   ]
  },
  {
   "cell_type": "code",
   "execution_count": 423,
   "id": "c036d874-5a54-4257-be23-680920a8a8c6",
   "metadata": {},
   "outputs": [],
   "source": [
    "user_order_ferquency[\"user_category\"]=pd.cut(user_order_ferquency[\"order count\"],bins=[0,1,2,float(\"inf\")],\n",
    "                                             labels=[\"one time buyer\",\"occassional\",\"frequently\"])"
   ]
  },
  {
   "cell_type": "code",
   "execution_count": 424,
   "id": "358c9fe1-79d9-4737-8d50-66195e9a96ff",
   "metadata": {},
   "outputs": [
    {
     "data": {
      "text/html": [
       "<div>\n",
       "<style scoped>\n",
       "    .dataframe tbody tr th:only-of-type {\n",
       "        vertical-align: middle;\n",
       "    }\n",
       "\n",
       "    .dataframe tbody tr th {\n",
       "        vertical-align: top;\n",
       "    }\n",
       "\n",
       "    .dataframe thead th {\n",
       "        text-align: right;\n",
       "    }\n",
       "</style>\n",
       "<table border=\"1\" class=\"dataframe\">\n",
       "  <thead>\n",
       "    <tr style=\"text-align: right;\">\n",
       "      <th></th>\n",
       "      <th>User ID</th>\n",
       "      <th>order count</th>\n",
       "      <th>user_category</th>\n",
       "    </tr>\n",
       "  </thead>\n",
       "  <tbody>\n",
       "    <tr>\n",
       "      <th>0</th>\n",
       "      <td>U001</td>\n",
       "      <td>3</td>\n",
       "      <td>frequently</td>\n",
       "    </tr>\n",
       "    <tr>\n",
       "      <th>1</th>\n",
       "      <td>U002</td>\n",
       "      <td>3</td>\n",
       "      <td>frequently</td>\n",
       "    </tr>\n",
       "    <tr>\n",
       "      <th>2</th>\n",
       "      <td>U003</td>\n",
       "      <td>3</td>\n",
       "      <td>frequently</td>\n",
       "    </tr>\n",
       "    <tr>\n",
       "      <th>3</th>\n",
       "      <td>U004</td>\n",
       "      <td>2</td>\n",
       "      <td>occassional</td>\n",
       "    </tr>\n",
       "    <tr>\n",
       "      <th>4</th>\n",
       "      <td>U005</td>\n",
       "      <td>2</td>\n",
       "      <td>occassional</td>\n",
       "    </tr>\n",
       "    <tr>\n",
       "      <th>5</th>\n",
       "      <td>U006</td>\n",
       "      <td>1</td>\n",
       "      <td>one time buyer</td>\n",
       "    </tr>\n",
       "    <tr>\n",
       "      <th>6</th>\n",
       "      <td>U007</td>\n",
       "      <td>1</td>\n",
       "      <td>one time buyer</td>\n",
       "    </tr>\n",
       "    <tr>\n",
       "      <th>7</th>\n",
       "      <td>U008</td>\n",
       "      <td>1</td>\n",
       "      <td>one time buyer</td>\n",
       "    </tr>\n",
       "  </tbody>\n",
       "</table>\n",
       "</div>"
      ],
      "text/plain": [
       "  User ID  order count   user_category\n",
       "0    U001            3      frequently\n",
       "1    U002            3      frequently\n",
       "2    U003            3      frequently\n",
       "3    U004            2     occassional\n",
       "4    U005            2     occassional\n",
       "5    U006            1  one time buyer\n",
       "6    U007            1  one time buyer\n",
       "7    U008            1  one time buyer"
      ]
     },
     "execution_count": 424,
     "metadata": {},
     "output_type": "execute_result"
    }
   ],
   "source": [
    "user_order_ferquency"
   ]
  },
  {
   "cell_type": "code",
   "execution_count": 425,
   "id": "9f605275-a407-420e-a28d-00fa3d183bf0",
   "metadata": {},
   "outputs": [
    {
     "data": {
      "text/plain": [
       "<Axes: xlabel='user_category'>"
      ]
     },
     "execution_count": 425,
     "metadata": {},
     "output_type": "execute_result"
    },
    {
     "data": {
      "image/png": "[encoded data removed]",
      "text/plain": [
       "<Figure size 640x480 with 1 Axes>"
      ]
     },
     "metadata": {},
     "output_type": "display_data"
    }
   ],
   "source": [
    "### count the no of user in each category\n",
    "\n",
    "user_order_ferquency[\"user_category\"].value_counts().plot(kind=\"bar\")"
   ]
  },
  {
   "cell_type": "code",
   "execution_count": null,
   "id": "eb615060-44fb-4686-b8c7-41cbe008f0c7",
   "metadata": {},
   "outputs": [],
   "source": []
  },
  {
   "cell_type": "code",
   "execution_count": 428,
   "id": "fd52d1fb-e05f-4a9e-b9c1-b4204e68281e",
   "metadata": {},
   "outputs": [
    {
     "data": {
      "text/plain": [
       "<Axes: xlabel='Order Status'>"
      ]
     },
     "execution_count": 428,
     "metadata": {},
     "output_type": "execute_result"
    },
    {
     "data": {
      "image/png": "[encoded data removed]",
      "text/plain": [
       "<Figure size 640x480 with 1 Axes>"
      ]
     },
     "metadata": {},
     "output_type": "display_data"
    }
   ],
   "source": [
    "## how many order completed or cancelled\n",
    "total_merge[\"Order Status\"].value_counts().plot(kind=\"bar\")"
   ]
  },
  {
   "cell_type": "code",
   "execution_count": 432,
   "id": "b4f86ab4-278b-4d8e-a038-3ad0c9ec3231",
   "metadata": {},
   "outputs": [
    {
     "data": {
      "text/plain": [
       "Index(['Order ID', 'Order Date', 'Order Status', 'Amount (USD)', 'Time of Day',\n",
       "       'Rating', 'Session ID', 'Session Start', 'Session End',\n",
       "       'Duration (mins)', 'Session Rating', 'User ID', 'Dish Name',\n",
       "       'Meal Type', 'Total Orders', 'revenue'],\n",
       "      dtype='object')"
      ]
     },
     "execution_count": 432,
     "metadata": {},
     "output_type": "execute_result"
    }
   ],
   "source": [
    "total_merge.columns"
   ]
  },
  {
   "cell_type": "code",
   "execution_count": 434,
   "id": "9c9b42da-3694-4e1d-89a7-3d44431e7c3b",
   "metadata": {},
   "outputs": [
    {
     "data": {
      "text/plain": [
       "2    40\n",
       "7    20\n",
       "Name: Duration (mins), dtype: int64"
      ]
     },
     "execution_count": 434,
     "metadata": {},
     "output_type": "execute_result"
    }
   ],
   "source": [
    "## duartion of the time required for prepare the dish--- when order is cancelled\n",
    "total_merge[total_merge[\"Order Status\"]==\"Canceled\"][\"Duration (mins)\"]"
   ]
  },
  {
   "cell_type": "code",
   "execution_count": 435,
   "id": "f6302880-a809-4227-a8ff-606bd57fe828",
   "metadata": {},
   "outputs": [
    {
     "data": {
      "text/plain": [
       "0     30\n",
       "1     20\n",
       "3     30\n",
       "4     15\n",
       "5     30\n",
       "6     45\n",
       "8     40\n",
       "9     10\n",
       "10    30\n",
       "11    40\n",
       "12    30\n",
       "13    45\n",
       "14    40\n",
       "15    20\n",
       "Name: Duration (mins), dtype: int64"
      ]
     },
     "execution_count": 435,
     "metadata": {},
     "output_type": "execute_result"
    }
   ],
   "source": [
    "## duartion of the time required for prepare the dish--- when order is completed\n",
    "total_merge[total_merge[\"Order Status\"]==\"Completed\"][\"Duration (mins)\"]"
   ]
  },
  {
   "cell_type": "code",
   "execution_count": 447,
   "id": "c06fdc37-919a-4a02-a1ad-b8dd88147385",
   "metadata": {},
   "outputs": [
    {
     "data": {
      "text/plain": [
       "[]"
      ]
     },
     "execution_count": 447,
     "metadata": {},
     "output_type": "execute_result"
    },
    {
     "data": {
      "image/png": "[encoded data removed]",
      "text/plain": [
       "<Figure size 640x480 with 1 Axes>"
      ]
     },
     "metadata": {},
     "output_type": "display_data"
    }
   ],
   "source": [
    "## orders according to the meal type\n",
    "total_merge.groupby(\"Meal Type\")[\"Order ID\"].count().plot(kind=\"bar\")\n",
    "plt.ylabel(\"no of order\")\n",
    "plt.plot()\n",
    "## many people would prefer the dinner time"
   ]
  },
  {
   "cell_type": "code",
   "execution_count": 445,
   "id": "d738eb31-dafe-4725-9673-55ec06696363",
   "metadata": {},
   "outputs": [
    {
     "data": {
      "text/plain": [
       "[]"
      ]
     },
     "execution_count": 445,
     "metadata": {},
     "output_type": "execute_result"
    },
    {
     "data": {
      "image/png": "[encoded data removed]",
      "text/plain": [
       "<Figure size 640x480 with 1 Axes>"
      ]
     },
     "metadata": {},
     "output_type": "display_data"
    }
   ],
   "source": [
    "## most of the revenue on which meal type time\n",
    "complted_order=total_merge[total_merge[\"Order Status\"]==\"Completed\"]\n",
    "complted_order.groupby(\"Meal Type\")[\"revenue\"].sum().plot(kind=\"bar\")\n",
    "plt.ylabel(\"how much revenue generate\")\n",
    "plt.plot()"
   ]
  },
  {
   "cell_type": "code",
   "execution_count": 429,
   "id": "73c08d55-69f8-4f81-85fe-e3a653ee0b47",
   "metadata": {},
   "outputs": [
    {
     "data": {
      "text/html": [
       "<div>\n",
       "<style scoped>\n",
       "    .dataframe tbody tr th:only-of-type {\n",
       "        vertical-align: middle;\n",
       "    }\n",
       "\n",
       "    .dataframe tbody tr th {\n",
       "        vertical-align: top;\n",
       "    }\n",
       "\n",
       "    .dataframe thead th {\n",
       "        text-align: right;\n",
       "    }\n",
       "</style>\n",
       "<table border=\"1\" class=\"dataframe\">\n",
       "  <thead>\n",
       "    <tr style=\"text-align: right;\">\n",
       "      <th></th>\n",
       "      <th>Order ID</th>\n",
       "      <th>Order Date</th>\n",
       "      <th>Order Status</th>\n",
       "      <th>Amount (USD)</th>\n",
       "      <th>Time of Day</th>\n",
       "      <th>Rating</th>\n",
       "      <th>Session ID</th>\n",
       "      <th>Session Start</th>\n",
       "      <th>Session End</th>\n",
       "      <th>Duration (mins)</th>\n",
       "      <th>Session Rating</th>\n",
       "      <th>User ID</th>\n",
       "      <th>Dish Name</th>\n",
       "      <th>Meal Type</th>\n",
       "      <th>Total Orders</th>\n",
       "      <th>revenue</th>\n",
       "    </tr>\n",
       "  </thead>\n",
       "  <tbody>\n",
       "    <tr>\n",
       "      <th>0</th>\n",
       "      <td>1001</td>\n",
       "      <td>2024-12-01</td>\n",
       "      <td>Completed</td>\n",
       "      <td>15.0</td>\n",
       "      <td>Night</td>\n",
       "      <td>5.0</td>\n",
       "      <td>S001</td>\n",
       "      <td>2024-12-01 19:00:00</td>\n",
       "      <td>2024-12-01 19:30:00</td>\n",
       "      <td>30</td>\n",
       "      <td>4.5</td>\n",
       "      <td>U001</td>\n",
       "      <td>Spaghetti</td>\n",
       "      <td>Dinner</td>\n",
       "      <td>12</td>\n",
       "      <td>180.0</td>\n",
       "    </tr>\n",
       "    <tr>\n",
       "      <th>1</th>\n",
       "      <td>1002</td>\n",
       "      <td>2024-12-01</td>\n",
       "      <td>Completed</td>\n",
       "      <td>10.0</td>\n",
       "      <td>Day</td>\n",
       "      <td>4.0</td>\n",
       "      <td>S002</td>\n",
       "      <td>2024-12-01 12:00:00</td>\n",
       "      <td>2024-12-01 12:20:00</td>\n",
       "      <td>20</td>\n",
       "      <td>4.0</td>\n",
       "      <td>U002</td>\n",
       "      <td>Caesar Salad</td>\n",
       "      <td>Lunch</td>\n",
       "      <td>8</td>\n",
       "      <td>80.0</td>\n",
       "    </tr>\n",
       "    <tr>\n",
       "      <th>2</th>\n",
       "      <td>1003</td>\n",
       "      <td>2024-12-02</td>\n",
       "      <td>Canceled</td>\n",
       "      <td>12.5</td>\n",
       "      <td>Night</td>\n",
       "      <td>4.0</td>\n",
       "      <td>S003</td>\n",
       "      <td>2024-12-02 19:30:00</td>\n",
       "      <td>2024-12-02 20:10:00</td>\n",
       "      <td>40</td>\n",
       "      <td>4.8</td>\n",
       "      <td>U003</td>\n",
       "      <td>Grilled Chicken</td>\n",
       "      <td>Dinner</td>\n",
       "      <td>15</td>\n",
       "      <td>187.5</td>\n",
       "    </tr>\n",
       "  </tbody>\n",
       "</table>\n",
       "</div>"
      ],
      "text/plain": [
       "   Order ID Order Date Order Status  Amount (USD) Time of Day  Rating  \\\n",
       "0      1001 2024-12-01    Completed          15.0       Night     5.0   \n",
       "1      1002 2024-12-01    Completed          10.0         Day     4.0   \n",
       "2      1003 2024-12-02     Canceled          12.5       Night     4.0   \n",
       "\n",
       "  Session ID       Session Start         Session End  Duration (mins)  \\\n",
       "0       S001 2024-12-01 19:00:00 2024-12-01 19:30:00               30   \n",
       "1       S002 2024-12-01 12:00:00 2024-12-01 12:20:00               20   \n",
       "2       S003 2024-12-02 19:30:00 2024-12-02 20:10:00               40   \n",
       "\n",
       "   Session Rating User ID        Dish Name Meal Type  Total Orders  revenue  \n",
       "0             4.5    U001        Spaghetti    Dinner            12    180.0  \n",
       "1             4.0    U002     Caesar Salad     Lunch             8     80.0  \n",
       "2             4.8    U003  Grilled Chicken    Dinner            15    187.5  "
      ]
     },
     "execution_count": 429,
     "metadata": {},
     "output_type": "execute_result"
    }
   ],
   "source": [
    "total_merge.head(3)"
   ]
  },
  {
   "cell_type": "code",
   "execution_count": 297,
   "id": "25a03545-5f50-4921-bc36-c930ecb97555",
   "metadata": {},
   "outputs": [
    {
     "data": {
      "text/html": [
       "<div>\n",
       "<style scoped>\n",
       "    .dataframe tbody tr th:only-of-type {\n",
       "        vertical-align: middle;\n",
       "    }\n",
       "\n",
       "    .dataframe tbody tr th {\n",
       "        vertical-align: top;\n",
       "    }\n",
       "\n",
       "    .dataframe thead th {\n",
       "        text-align: right;\n",
       "    }\n",
       "</style>\n",
       "<table border=\"1\" class=\"dataframe\">\n",
       "  <thead>\n",
       "    <tr style=\"text-align: right;\">\n",
       "      <th></th>\n",
       "      <th>User ID_order</th>\n",
       "      <th>user_rating</th>\n",
       "    </tr>\n",
       "  </thead>\n",
       "  <tbody>\n",
       "    <tr>\n",
       "      <th>5</th>\n",
       "      <td>U006</td>\n",
       "      <td>5.000000</td>\n",
       "    </tr>\n",
       "    <tr>\n",
       "      <th>6</th>\n",
       "      <td>U007</td>\n",
       "      <td>5.000000</td>\n",
       "    </tr>\n",
       "    <tr>\n",
       "      <th>0</th>\n",
       "      <td>U001</td>\n",
       "      <td>4.666667</td>\n",
       "    </tr>\n",
       "    <tr>\n",
       "      <th>1</th>\n",
       "      <td>U002</td>\n",
       "      <td>4.000000</td>\n",
       "    </tr>\n",
       "    <tr>\n",
       "      <th>2</th>\n",
       "      <td>U003</td>\n",
       "      <td>4.000000</td>\n",
       "    </tr>\n",
       "    <tr>\n",
       "      <th>3</th>\n",
       "      <td>U004</td>\n",
       "      <td>4.000000</td>\n",
       "    </tr>\n",
       "    <tr>\n",
       "      <th>4</th>\n",
       "      <td>U005</td>\n",
       "      <td>4.000000</td>\n",
       "    </tr>\n",
       "    <tr>\n",
       "      <th>7</th>\n",
       "      <td>U008</td>\n",
       "      <td>4.000000</td>\n",
       "    </tr>\n",
       "  </tbody>\n",
       "</table>\n",
       "</div>"
      ],
      "text/plain": [
       "  User ID_order  user_rating\n",
       "5          U006     5.000000\n",
       "6          U007     5.000000\n",
       "0          U001     4.666667\n",
       "1          U002     4.000000\n",
       "2          U003     4.000000\n",
       "3          U004     4.000000\n",
       "4          U005     4.000000\n",
       "7          U008     4.000000"
      ]
     },
     "execution_count": 297,
     "metadata": {},
     "output_type": "execute_result"
    }
   ],
   "source": [
    "df.sort_values(by=\"user_rating\",ascending=False)\n",
    "##U006\thas the highest rating"
   ]
  },
  {
   "cell_type": "code",
   "execution_count": 453,
   "id": "4a0b5d30-7ce3-41d6-87ba-03ebcd09f29c",
   "metadata": {},
   "outputs": [
    {
     "data": {
      "text/plain": [
       "[]"
      ]
     },
     "execution_count": 453,
     "metadata": {},
     "output_type": "execute_result"
    },
    {
     "data": {
      "image/png": "[encoded data removed]",
      "text/plain": [
       "<Figure size 640x480 with 1 Axes>"
      ]
     },
     "metadata": {},
     "output_type": "display_data"
    }
   ],
   "source": [
    "## which user id found the max order\n",
    "total_merge.groupby(\"User ID\")[\"Total Orders\"].sum().plot(kind=\"bar\")\n",
    "plt.ylabel(\"total no of orers as per userid\")\n",
    "plt.plot()"
   ]
  },
  {
   "cell_type": "code",
   "execution_count": 454,
   "id": "626fbd71-dfc1-4ff3-b594-4029df54223e",
   "metadata": {},
   "outputs": [],
   "source": [
    "## average rating session vs  after order \n",
    "rating_session_time=total_merge.groupby(\"Dish Name\")[\"Session Rating\"].mean().reset_index(name=\"rating session time\")\n",
    "rating_order_time=total_merge.groupby(\"Dish Name\")[\"Rating\"].mean().reset_index(name=\"rating after order\")"
   ]
  },
  {
   "cell_type": "code",
   "execution_count": 456,
   "id": "7d1f4a2a-9617-497b-b473-e269c0f89681",
   "metadata": {},
   "outputs": [
    {
     "data": {
      "text/html": [
       "<div>\n",
       "<style scoped>\n",
       "    .dataframe tbody tr th:only-of-type {\n",
       "        vertical-align: middle;\n",
       "    }\n",
       "\n",
       "    .dataframe tbody tr th {\n",
       "        vertical-align: top;\n",
       "    }\n",
       "\n",
       "    .dataframe thead th {\n",
       "        text-align: right;\n",
       "    }\n",
       "</style>\n",
       "<table border=\"1\" class=\"dataframe\">\n",
       "  <thead>\n",
       "    <tr style=\"text-align: right;\">\n",
       "      <th></th>\n",
       "      <th>Dish Name</th>\n",
       "      <th>rating after order</th>\n",
       "      <th>rating session time</th>\n",
       "    </tr>\n",
       "  </thead>\n",
       "  <tbody>\n",
       "    <tr>\n",
       "      <th>0</th>\n",
       "      <td>Caesar Salad</td>\n",
       "      <td>4.0</td>\n",
       "      <td>4.366667</td>\n",
       "    </tr>\n",
       "    <tr>\n",
       "      <th>1</th>\n",
       "      <td>Grilled Chicken</td>\n",
       "      <td>4.5</td>\n",
       "      <td>4.775000</td>\n",
       "    </tr>\n",
       "    <tr>\n",
       "      <th>2</th>\n",
       "      <td>Oatmeal</td>\n",
       "      <td>4.0</td>\n",
       "      <td>4.100000</td>\n",
       "    </tr>\n",
       "    <tr>\n",
       "      <th>3</th>\n",
       "      <td>Pancakes</td>\n",
       "      <td>4.0</td>\n",
       "      <td>4.400000</td>\n",
       "    </tr>\n",
       "    <tr>\n",
       "      <th>4</th>\n",
       "      <td>Spaghetti</td>\n",
       "      <td>4.5</td>\n",
       "      <td>4.625000</td>\n",
       "    </tr>\n",
       "    <tr>\n",
       "      <th>5</th>\n",
       "      <td>Veggie Burger</td>\n",
       "      <td>4.0</td>\n",
       "      <td>4.350000</td>\n",
       "    </tr>\n",
       "  </tbody>\n",
       "</table>\n",
       "</div>"
      ],
      "text/plain": [
       "         Dish Name  rating after order  rating session time\n",
       "0     Caesar Salad                 4.0             4.366667\n",
       "1  Grilled Chicken                 4.5             4.775000\n",
       "2          Oatmeal                 4.0             4.100000\n",
       "3         Pancakes                 4.0             4.400000\n",
       "4        Spaghetti                 4.5             4.625000\n",
       "5    Veggie Burger                 4.0             4.350000"
      ]
     },
     "execution_count": 456,
     "metadata": {},
     "output_type": "execute_result"
    }
   ],
   "source": [
    "pd.merge(rating_order_time,rating_session_time,on=\"Dish Name\")"
   ]
  },
  {
   "cell_type": "code",
   "execution_count": null,
   "id": "911a9a77-d2bb-4a69-8099-170a4465fa6c",
   "metadata": {},
   "outputs": [],
   "source": []
  }
 ],
 "metadata": {
  "kernelspec": {
   "display_name": "Python 3 (ipykernel)",
   "language": "python",
   "name": "python3"
  },
  "language_info": {
   "codemirror_mode": {
    "name": "ipython",
    "version": 3
   },
   "file_extension": ".py",
   "mimetype": "text/x-python",
   "name": "python",
   "nbconvert_exporter": "python",
   "pygments_lexer": "ipython3",
   "version": "3.12.2"
  }
 },
 "nbformat": 4,
 "nbformat_minor": 5
}
